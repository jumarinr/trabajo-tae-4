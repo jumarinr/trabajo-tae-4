{
  "nbformat": 4,
  "nbformat_minor": 0,
  "metadata": {
    "colab": {
      "name": "Trabajo_4_TAE.ipynb",
      "provenance": [],
      "collapsed_sections": [
        "tnGL69baRPtH",
        "j0d9zbjQRUsK",
        "QvfEQiRQ6Zlk",
        "Gn-8Ro7vRe80",
        "WMcIdjAzRq59",
        "yF7Fh_zKR8RS",
        "uDN28MItvJwS",
        "hEd4mycDRvCN"
      ],
      "include_colab_link": true
    },
    "kernelspec": {
      "name": "python3",
      "display_name": "Python 3"
    },
    "language_info": {
      "name": "python"
    }
  },
  "cells": [
    {
      "cell_type": "markdown",
      "metadata": {
        "id": "view-in-github",
        "colab_type": "text"
      },
      "source": [
        "<a href=\"https://colab.research.google.com/github/jumarinr/trabajo-tae-4/blob/main/Trabajo_4_TAE.ipynb\" target=\"_parent\"><img src=\"https://colab.research.google.com/assets/colab-badge.svg\" alt=\"Open In Colab\"/></a>"
      ]
    },
    {
      "cell_type": "markdown",
      "source": [
        "# Competencia de modelos de Predicción para el número de vehículos registrados"
      ],
      "metadata": {
        "id": "7EEO1qb4Q7h9"
      }
    },
    {
      "cell_type": "markdown",
      "source": [
        "## Importación de librerías"
      ],
      "metadata": {
        "id": "tldtr1G5Q7bi"
      }
    },
    {
      "cell_type": "code",
      "execution_count": null,
      "metadata": {
        "id": "CMUo7Fkm6ZnP",
        "colab": {
          "base_uri": "https://localhost:8080/"
        },
        "outputId": "11e90ad7-6471-4617-cbef-a766c56fc497"
      },
      "outputs": [
        {
          "output_type": "stream",
          "name": "stdout",
          "text": [
            "Looking in indexes: https://pypi.org/simple, https://us-python.pkg.dev/colab-wheels/public/simple/\n",
            "Requirement already satisfied: holidays_co in /usr/local/lib/python3.7/dist-packages (1.0.0)\n"
          ]
        }
      ],
      "source": [
        "import pandas as pd\n",
        "import numpy as np\n",
        "import datetime as dt\n",
        "import os\n",
        "\n",
        "import numpy as np\n",
        "import pandas as pd\n",
        "import matplotlib.pyplot as plt\n",
        "import seaborn as sns\n",
        "import matplotlib.ticker as ticker\n",
        "\n",
        "from pydrive.auth import GoogleAuth\n",
        "from pydrive.drive import GoogleDrive\n",
        "from google.colab import auth\n",
        "from oauth2client.client import GoogleCredentials\n",
        "\n",
        "from sklearn.ensemble import RandomForestRegressor\n",
        "from sklearn import linear_model\n",
        "from sklearn.metrics import r2_score\n",
        "from keras.callbacks import ModelCheckpoint\n",
        "from keras.models import Sequential\n",
        "from keras.layers import Dense, Activation, Flatten\n",
        "from sklearn.svm import SVR\n",
        "from sklearn.pipeline import make_pipeline\n",
        "from sklearn.preprocessing import StandardScaler\n",
        "\n",
        "!pip install holidays_co\n",
        "from holidays_co import is_holiday_date"
      ]
    },
    {
      "cell_type": "markdown",
      "source": [
        "## Lectura de datos"
      ],
      "metadata": {
        "id": "tnGL69baRPtH"
      }
    },
    {
      "cell_type": "code",
      "source": [
        "#Simples permisos para leer desde drive\n",
        "auth.authenticate_user()\n",
        "gauth = GoogleAuth()\n",
        "gauth.credentials = GoogleCredentials.get_application_default()\n",
        "drive = GoogleDrive(gauth)"
      ],
      "metadata": {
        "id": "HniAouoZ7KkB"
      },
      "execution_count": null,
      "outputs": []
    },
    {
      "cell_type": "code",
      "source": [
        "#Link del csv con nuestros datos\n",
        "cars = 'https://docs.google.com/spreadsheets/d/12hqhpFo5kl79TwExomOs3RYyBnyezRT5/edit'\n",
        " \n",
        "# to get the id part of the file\n",
        "id = cars.split(\"/\")[-2]\n",
        "downloaded = drive.CreateFile({'id':id})\n",
        "downloaded.GetContentFile('registros_autos_entrenamiento.xlsx') \n",
        "df = pd.read_excel('registros_autos_entrenamiento.xlsx')"
      ],
      "metadata": {
        "id": "1IrG9mc37QSr"
      },
      "execution_count": null,
      "outputs": []
    },
    {
      "cell_type": "code",
      "source": [
        "df"
      ],
      "metadata": {
        "colab": {
          "base_uri": "https://localhost:8080/"
        },
        "id": "7TPkAW4y85hP",
        "outputId": "ced7e0bc-9d04-4f43-ca3f-4174e4973042"
      },
      "execution_count": null,
      "outputs": [
        {
          "output_type": "execute_result",
          "data": {
            "text/plain": [
              "          Fecha  Unidades\n",
              "0    2012-01-01       0.0\n",
              "1    2012-01-02     188.0\n",
              "2    2012-01-03     482.0\n",
              "3    2012-01-04     927.0\n",
              "4    2012-01-05    1159.0\n",
              "...         ...       ...\n",
              "2187 2017-12-27    2102.0\n",
              "2188 2017-12-28    3449.0\n",
              "2189 2017-12-29    1084.0\n",
              "2190 2017-12-30      18.0\n",
              "2191 2017-12-31       0.0\n",
              "\n",
              "[2192 rows x 2 columns]"
            ],
            "text/html": [
              "\n",
              "  <div id=\"df-4fd328ac-3b42-4329-8687-9fdb2cf80068\">\n",
              "    <div class=\"colab-df-container\">\n",
              "      <div>\n",
              "<style scoped>\n",
              "    .dataframe tbody tr th:only-of-type {\n",
              "        vertical-align: middle;\n",
              "    }\n",
              "\n",
              "    .dataframe tbody tr th {\n",
              "        vertical-align: top;\n",
              "    }\n",
              "\n",
              "    .dataframe thead th {\n",
              "        text-align: right;\n",
              "    }\n",
              "</style>\n",
              "<table border=\"1\" class=\"dataframe\">\n",
              "  <thead>\n",
              "    <tr style=\"text-align: right;\">\n",
              "      <th></th>\n",
              "      <th>Fecha</th>\n",
              "      <th>Unidades</th>\n",
              "    </tr>\n",
              "  </thead>\n",
              "  <tbody>\n",
              "    <tr>\n",
              "      <th>0</th>\n",
              "      <td>2012-01-01</td>\n",
              "      <td>0.0</td>\n",
              "    </tr>\n",
              "    <tr>\n",
              "      <th>1</th>\n",
              "      <td>2012-01-02</td>\n",
              "      <td>188.0</td>\n",
              "    </tr>\n",
              "    <tr>\n",
              "      <th>2</th>\n",
              "      <td>2012-01-03</td>\n",
              "      <td>482.0</td>\n",
              "    </tr>\n",
              "    <tr>\n",
              "      <th>3</th>\n",
              "      <td>2012-01-04</td>\n",
              "      <td>927.0</td>\n",
              "    </tr>\n",
              "    <tr>\n",
              "      <th>4</th>\n",
              "      <td>2012-01-05</td>\n",
              "      <td>1159.0</td>\n",
              "    </tr>\n",
              "    <tr>\n",
              "      <th>...</th>\n",
              "      <td>...</td>\n",
              "      <td>...</td>\n",
              "    </tr>\n",
              "    <tr>\n",
              "      <th>2187</th>\n",
              "      <td>2017-12-27</td>\n",
              "      <td>2102.0</td>\n",
              "    </tr>\n",
              "    <tr>\n",
              "      <th>2188</th>\n",
              "      <td>2017-12-28</td>\n",
              "      <td>3449.0</td>\n",
              "    </tr>\n",
              "    <tr>\n",
              "      <th>2189</th>\n",
              "      <td>2017-12-29</td>\n",
              "      <td>1084.0</td>\n",
              "    </tr>\n",
              "    <tr>\n",
              "      <th>2190</th>\n",
              "      <td>2017-12-30</td>\n",
              "      <td>18.0</td>\n",
              "    </tr>\n",
              "    <tr>\n",
              "      <th>2191</th>\n",
              "      <td>2017-12-31</td>\n",
              "      <td>0.0</td>\n",
              "    </tr>\n",
              "  </tbody>\n",
              "</table>\n",
              "<p>2192 rows × 2 columns</p>\n",
              "</div>\n",
              "      <button class=\"colab-df-convert\" onclick=\"convertToInteractive('df-4fd328ac-3b42-4329-8687-9fdb2cf80068')\"\n",
              "              title=\"Convert this dataframe to an interactive table.\"\n",
              "              style=\"display:none;\">\n",
              "        \n",
              "  <svg xmlns=\"http://www.w3.org/2000/svg\" height=\"24px\"viewBox=\"0 0 24 24\"\n",
              "       width=\"24px\">\n",
              "    <path d=\"M0 0h24v24H0V0z\" fill=\"none\"/>\n",
              "    <path d=\"M18.56 5.44l.94 2.06.94-2.06 2.06-.94-2.06-.94-.94-2.06-.94 2.06-2.06.94zm-11 1L8.5 8.5l.94-2.06 2.06-.94-2.06-.94L8.5 2.5l-.94 2.06-2.06.94zm10 10l.94 2.06.94-2.06 2.06-.94-2.06-.94-.94-2.06-.94 2.06-2.06.94z\"/><path d=\"M17.41 7.96l-1.37-1.37c-.4-.4-.92-.59-1.43-.59-.52 0-1.04.2-1.43.59L10.3 9.45l-7.72 7.72c-.78.78-.78 2.05 0 2.83L4 21.41c.39.39.9.59 1.41.59.51 0 1.02-.2 1.41-.59l7.78-7.78 2.81-2.81c.8-.78.8-2.07 0-2.86zM5.41 20L4 18.59l7.72-7.72 1.47 1.35L5.41 20z\"/>\n",
              "  </svg>\n",
              "      </button>\n",
              "      \n",
              "  <style>\n",
              "    .colab-df-container {\n",
              "      display:flex;\n",
              "      flex-wrap:wrap;\n",
              "      gap: 12px;\n",
              "    }\n",
              "\n",
              "    .colab-df-convert {\n",
              "      background-color: #E8F0FE;\n",
              "      border: none;\n",
              "      border-radius: 50%;\n",
              "      cursor: pointer;\n",
              "      display: none;\n",
              "      fill: #1967D2;\n",
              "      height: 32px;\n",
              "      padding: 0 0 0 0;\n",
              "      width: 32px;\n",
              "    }\n",
              "\n",
              "    .colab-df-convert:hover {\n",
              "      background-color: #E2EBFA;\n",
              "      box-shadow: 0px 1px 2px rgba(60, 64, 67, 0.3), 0px 1px 3px 1px rgba(60, 64, 67, 0.15);\n",
              "      fill: #174EA6;\n",
              "    }\n",
              "\n",
              "    [theme=dark] .colab-df-convert {\n",
              "      background-color: #3B4455;\n",
              "      fill: #D2E3FC;\n",
              "    }\n",
              "\n",
              "    [theme=dark] .colab-df-convert:hover {\n",
              "      background-color: #434B5C;\n",
              "      box-shadow: 0px 1px 3px 1px rgba(0, 0, 0, 0.15);\n",
              "      filter: drop-shadow(0px 1px 2px rgba(0, 0, 0, 0.3));\n",
              "      fill: #FFFFFF;\n",
              "    }\n",
              "  </style>\n",
              "\n",
              "      <script>\n",
              "        const buttonEl =\n",
              "          document.querySelector('#df-4fd328ac-3b42-4329-8687-9fdb2cf80068 button.colab-df-convert');\n",
              "        buttonEl.style.display =\n",
              "          google.colab.kernel.accessAllowed ? 'block' : 'none';\n",
              "\n",
              "        async function convertToInteractive(key) {\n",
              "          const element = document.querySelector('#df-4fd328ac-3b42-4329-8687-9fdb2cf80068');\n",
              "          const dataTable =\n",
              "            await google.colab.kernel.invokeFunction('convertToInteractive',\n",
              "                                                     [key], {});\n",
              "          if (!dataTable) return;\n",
              "\n",
              "          const docLinkHtml = 'Like what you see? Visit the ' +\n",
              "            '<a target=\"_blank\" href=https://colab.research.google.com/notebooks/data_table.ipynb>data table notebook</a>'\n",
              "            + ' to learn more about interactive tables.';\n",
              "          element.innerHTML = '';\n",
              "          dataTable['output_type'] = 'display_data';\n",
              "          await google.colab.output.renderOutput(dataTable, element);\n",
              "          const docLink = document.createElement('div');\n",
              "          docLink.innerHTML = docLinkHtml;\n",
              "          element.appendChild(docLink);\n",
              "        }\n",
              "      </script>\n",
              "    </div>\n",
              "  </div>\n",
              "  "
            ]
          },
          "metadata": {},
          "execution_count": 4
        }
      ]
    },
    {
      "cell_type": "markdown",
      "source": [
        "## Ingeniería de características"
      ],
      "metadata": {
        "id": "j0d9zbjQRUsK"
      }
    },
    {
      "cell_type": "markdown",
      "source": [
        "Como se puede apreciar, los datos leídos están compuestos por dos columnas: Fecha y Unidades. \n",
        "\n",
        "+ Fecha: fecha en la que se registraron cierta cantidad de autos en el RUNT.\n",
        "+ Unidades: cantidad de vehículos registrados en el RUNT.\n",
        "\n",
        "Estas fechas guardan información de forma implícita y, por medio de ingeniería de características, esa información será extraída.\n"
      ],
      "metadata": {
        "id": "pN3NL5a4Pb7f"
      }
    },
    {
      "cell_type": "markdown",
      "source": [
        "Se definen las funciones que permitirán extraer la información de las fechas.\n",
        "\n",
        "+ Get_day: devuelve el día del mes.\n",
        "+ Get_weekday: devuelve el día de la semana (Lunes, Martes, Miércoles, Jueves, Viernes, Sábado o Domingo).\n",
        "+ Get_year: devuelve el año.\n",
        "+ Get_month: devuelve el mes.\n",
        "+ Get_dayofyear: devuelve el día en el año.\n",
        "+ Get_weekofyear: devuelve la semana del año.\n",
        "+ Is_weekend: devuelve si es fin de semana o no.\n",
        "+ Is_startofmonth: devuelve si es el inicio del mes.\n",
        "+ Is_endofmonth: devuelve si es fin de mes.\n",
        "+ Is_startofyear: devuelve si es el inicio del año.\n",
        "+ Is_endofyear: devuelve si es fin de año.\n",
        "\n",
        "Estas funciones se aplican en una función mayor llamada \"database\", la cual construye la base de datos con base en la fecha para utilizarla en los modelos de predicción."
      ],
      "metadata": {
        "id": "ODyUV2yKQLWt"
      }
    },
    {
      "cell_type": "markdown",
      "source": [
        "Esta tabla define el valor para cada día de la semana.\n",
        "\n",
        "![image.png](data:image/png;base64,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)"
      ],
      "metadata": {
        "id": "tN0kviLXLbjF"
      }
    },
    {
      "cell_type": "code",
      "source": [
        "# function to get all data from time stamp\n",
        " \n",
        "# get date\n",
        "def get_day(dt):\n",
        "    return dt.day\n",
        " \n",
        "# get week day\n",
        "def get_weekday(dt):\n",
        "    return dt.weekday()\n",
        " \n",
        "# get year\n",
        "def get_year(dt):\n",
        "    return dt.year\n",
        " \n",
        "# get month\n",
        "def get_month(dt):\n",
        "    return dt.month\n",
        " \n",
        "# get year day\n",
        "def get_dayofyear(dt):\n",
        "    return dt.dayofyear\n",
        " \n",
        "# get year week\n",
        "def get_weekofyear(dt):\n",
        "    return dt.weekofyear\n",
        "\n",
        "# verify if its weekend\n",
        "def is_weekend(day):\n",
        "  return np.where(day in ([5,6]), 1,0)\n",
        "\n",
        "# verify if it's start of month\n",
        "def is_startofmonth(dt):\n",
        "  return 1 if dt.is_month_start else 0\n",
        "\n",
        "# verify if it's end of month\n",
        "def is_endofmonth(dt):\n",
        "  return 1 if dt.is_month_end else 0\n",
        "\n",
        "# verify if it's start of year\n",
        "def is_startofyear(dt):\n",
        "  return 1 if dt.is_year_start else 0\n",
        "\n",
        "# verify if it's end of year\n",
        "def is_endofyear(dt):\n",
        "  return 1 if dt.is_year_end else 0\n",
        "\n",
        "def database(df):\n",
        "  df['Fecha'] = df['Fecha'].map(pd.to_datetime)\n",
        "  df['Dia'] = df['Fecha'].map(get_day)\n",
        "  df['Dia_Semana'] = df['Fecha'].map(get_weekday)\n",
        "  df['Fin_Semana'] = df['Dia_Semana'].map(is_weekend)\n",
        "  df['Mes'] = df['Fecha'].map(get_month)\n",
        "  df['Inicio_Mes'] = df['Fecha'].map(is_startofmonth)\n",
        "  df['Fin_Mes'] = df['Fecha'].map(is_endofmonth)\n",
        "  df['Anio'] = df['Fecha'].map(get_year)\n",
        "  df['Inicio_Anio'] = df['Fecha'].map(is_startofyear)\n",
        "  df['Fin_Anio'] = df['Fecha'].map(is_endofyear)\n",
        "  df['Dia_Anio'] = df['Fecha'].map(get_dayofyear)\n",
        "  df['Semana_Anio'] = df['Fecha'].map(get_weekofyear)\n",
        "  df['Festivo'] = df.Fecha.apply(lambda fecha: 1 if is_holiday_date(fecha.date()) else 0)\n",
        "  return df\n",
        "\n",
        "database(df)"
      ],
      "metadata": {
        "colab": {
          "base_uri": "https://localhost:8080/"
        },
        "id": "Oks7JJxQIHdH",
        "outputId": "1523fdf1-36b7-40fa-c0e6-501313087db7"
      },
      "execution_count": null,
      "outputs": [
        {
          "output_type": "execute_result",
          "data": {
            "text/plain": [
              "          Fecha  Unidades  Dia  Dia_Semana  Fin_Semana  Mes  Inicio_Mes  \\\n",
              "0    2012-01-01       0.0    1           6           1    1           1   \n",
              "1    2012-01-02     188.0    2           0           0    1           0   \n",
              "2    2012-01-03     482.0    3           1           0    1           0   \n",
              "3    2012-01-04     927.0    4           2           0    1           0   \n",
              "4    2012-01-05    1159.0    5           3           0    1           0   \n",
              "...         ...       ...  ...         ...         ...  ...         ...   \n",
              "2187 2017-12-27    2102.0   27           2           0   12           0   \n",
              "2188 2017-12-28    3449.0   28           3           0   12           0   \n",
              "2189 2017-12-29    1084.0   29           4           0   12           0   \n",
              "2190 2017-12-30      18.0   30           5           1   12           0   \n",
              "2191 2017-12-31       0.0   31           6           1   12           0   \n",
              "\n",
              "      Fin_Mes  Anio  Inicio_Anio  Fin_Anio  Dia_Anio  Semana_Anio  Festivo  \n",
              "0           0  2012            1         0         1           52        1  \n",
              "1           0  2012            0         0         2            1        0  \n",
              "2           0  2012            0         0         3            1        0  \n",
              "3           0  2012            0         0         4            1        0  \n",
              "4           0  2012            0         0         5            1        0  \n",
              "...       ...   ...          ...       ...       ...          ...      ...  \n",
              "2187        0  2017            0         0       361           52        0  \n",
              "2188        0  2017            0         0       362           52        0  \n",
              "2189        0  2017            0         0       363           52        0  \n",
              "2190        0  2017            0         0       364           52        0  \n",
              "2191        1  2017            0         1       365           52        0  \n",
              "\n",
              "[2192 rows x 14 columns]"
            ],
            "text/html": [
              "\n",
              "  <div id=\"df-2001135f-90ca-43e0-8442-a69ee272c801\">\n",
              "    <div class=\"colab-df-container\">\n",
              "      <div>\n",
              "<style scoped>\n",
              "    .dataframe tbody tr th:only-of-type {\n",
              "        vertical-align: middle;\n",
              "    }\n",
              "\n",
              "    .dataframe tbody tr th {\n",
              "        vertical-align: top;\n",
              "    }\n",
              "\n",
              "    .dataframe thead th {\n",
              "        text-align: right;\n",
              "    }\n",
              "</style>\n",
              "<table border=\"1\" class=\"dataframe\">\n",
              "  <thead>\n",
              "    <tr style=\"text-align: right;\">\n",
              "      <th></th>\n",
              "      <th>Fecha</th>\n",
              "      <th>Unidades</th>\n",
              "      <th>Dia</th>\n",
              "      <th>Dia_Semana</th>\n",
              "      <th>Fin_Semana</th>\n",
              "      <th>Mes</th>\n",
              "      <th>Inicio_Mes</th>\n",
              "      <th>Fin_Mes</th>\n",
              "      <th>Anio</th>\n",
              "      <th>Inicio_Anio</th>\n",
              "      <th>Fin_Anio</th>\n",
              "      <th>Dia_Anio</th>\n",
              "      <th>Semana_Anio</th>\n",
              "      <th>Festivo</th>\n",
              "    </tr>\n",
              "  </thead>\n",
              "  <tbody>\n",
              "    <tr>\n",
              "      <th>0</th>\n",
              "      <td>2012-01-01</td>\n",
              "      <td>0.0</td>\n",
              "      <td>1</td>\n",
              "      <td>6</td>\n",
              "      <td>1</td>\n",
              "      <td>1</td>\n",
              "      <td>1</td>\n",
              "      <td>0</td>\n",
              "      <td>2012</td>\n",
              "      <td>1</td>\n",
              "      <td>0</td>\n",
              "      <td>1</td>\n",
              "      <td>52</td>\n",
              "      <td>1</td>\n",
              "    </tr>\n",
              "    <tr>\n",
              "      <th>1</th>\n",
              "      <td>2012-01-02</td>\n",
              "      <td>188.0</td>\n",
              "      <td>2</td>\n",
              "      <td>0</td>\n",
              "      <td>0</td>\n",
              "      <td>1</td>\n",
              "      <td>0</td>\n",
              "      <td>0</td>\n",
              "      <td>2012</td>\n",
              "      <td>0</td>\n",
              "      <td>0</td>\n",
              "      <td>2</td>\n",
              "      <td>1</td>\n",
              "      <td>0</td>\n",
              "    </tr>\n",
              "    <tr>\n",
              "      <th>2</th>\n",
              "      <td>2012-01-03</td>\n",
              "      <td>482.0</td>\n",
              "      <td>3</td>\n",
              "      <td>1</td>\n",
              "      <td>0</td>\n",
              "      <td>1</td>\n",
              "      <td>0</td>\n",
              "      <td>0</td>\n",
              "      <td>2012</td>\n",
              "      <td>0</td>\n",
              "      <td>0</td>\n",
              "      <td>3</td>\n",
              "      <td>1</td>\n",
              "      <td>0</td>\n",
              "    </tr>\n",
              "    <tr>\n",
              "      <th>3</th>\n",
              "      <td>2012-01-04</td>\n",
              "      <td>927.0</td>\n",
              "      <td>4</td>\n",
              "      <td>2</td>\n",
              "      <td>0</td>\n",
              "      <td>1</td>\n",
              "      <td>0</td>\n",
              "      <td>0</td>\n",
              "      <td>2012</td>\n",
              "      <td>0</td>\n",
              "      <td>0</td>\n",
              "      <td>4</td>\n",
              "      <td>1</td>\n",
              "      <td>0</td>\n",
              "    </tr>\n",
              "    <tr>\n",
              "      <th>4</th>\n",
              "      <td>2012-01-05</td>\n",
              "      <td>1159.0</td>\n",
              "      <td>5</td>\n",
              "      <td>3</td>\n",
              "      <td>0</td>\n",
              "      <td>1</td>\n",
              "      <td>0</td>\n",
              "      <td>0</td>\n",
              "      <td>2012</td>\n",
              "      <td>0</td>\n",
              "      <td>0</td>\n",
              "      <td>5</td>\n",
              "      <td>1</td>\n",
              "      <td>0</td>\n",
              "    </tr>\n",
              "    <tr>\n",
              "      <th>...</th>\n",
              "      <td>...</td>\n",
              "      <td>...</td>\n",
              "      <td>...</td>\n",
              "      <td>...</td>\n",
              "      <td>...</td>\n",
              "      <td>...</td>\n",
              "      <td>...</td>\n",
              "      <td>...</td>\n",
              "      <td>...</td>\n",
              "      <td>...</td>\n",
              "      <td>...</td>\n",
              "      <td>...</td>\n",
              "      <td>...</td>\n",
              "      <td>...</td>\n",
              "    </tr>\n",
              "    <tr>\n",
              "      <th>2187</th>\n",
              "      <td>2017-12-27</td>\n",
              "      <td>2102.0</td>\n",
              "      <td>27</td>\n",
              "      <td>2</td>\n",
              "      <td>0</td>\n",
              "      <td>12</td>\n",
              "      <td>0</td>\n",
              "      <td>0</td>\n",
              "      <td>2017</td>\n",
              "      <td>0</td>\n",
              "      <td>0</td>\n",
              "      <td>361</td>\n",
              "      <td>52</td>\n",
              "      <td>0</td>\n",
              "    </tr>\n",
              "    <tr>\n",
              "      <th>2188</th>\n",
              "      <td>2017-12-28</td>\n",
              "      <td>3449.0</td>\n",
              "      <td>28</td>\n",
              "      <td>3</td>\n",
              "      <td>0</td>\n",
              "      <td>12</td>\n",
              "      <td>0</td>\n",
              "      <td>0</td>\n",
              "      <td>2017</td>\n",
              "      <td>0</td>\n",
              "      <td>0</td>\n",
              "      <td>362</td>\n",
              "      <td>52</td>\n",
              "      <td>0</td>\n",
              "    </tr>\n",
              "    <tr>\n",
              "      <th>2189</th>\n",
              "      <td>2017-12-29</td>\n",
              "      <td>1084.0</td>\n",
              "      <td>29</td>\n",
              "      <td>4</td>\n",
              "      <td>0</td>\n",
              "      <td>12</td>\n",
              "      <td>0</td>\n",
              "      <td>0</td>\n",
              "      <td>2017</td>\n",
              "      <td>0</td>\n",
              "      <td>0</td>\n",
              "      <td>363</td>\n",
              "      <td>52</td>\n",
              "      <td>0</td>\n",
              "    </tr>\n",
              "    <tr>\n",
              "      <th>2190</th>\n",
              "      <td>2017-12-30</td>\n",
              "      <td>18.0</td>\n",
              "      <td>30</td>\n",
              "      <td>5</td>\n",
              "      <td>1</td>\n",
              "      <td>12</td>\n",
              "      <td>0</td>\n",
              "      <td>0</td>\n",
              "      <td>2017</td>\n",
              "      <td>0</td>\n",
              "      <td>0</td>\n",
              "      <td>364</td>\n",
              "      <td>52</td>\n",
              "      <td>0</td>\n",
              "    </tr>\n",
              "    <tr>\n",
              "      <th>2191</th>\n",
              "      <td>2017-12-31</td>\n",
              "      <td>0.0</td>\n",
              "      <td>31</td>\n",
              "      <td>6</td>\n",
              "      <td>1</td>\n",
              "      <td>12</td>\n",
              "      <td>0</td>\n",
              "      <td>1</td>\n",
              "      <td>2017</td>\n",
              "      <td>0</td>\n",
              "      <td>1</td>\n",
              "      <td>365</td>\n",
              "      <td>52</td>\n",
              "      <td>0</td>\n",
              "    </tr>\n",
              "  </tbody>\n",
              "</table>\n",
              "<p>2192 rows × 14 columns</p>\n",
              "</div>\n",
              "      <button class=\"colab-df-convert\" onclick=\"convertToInteractive('df-2001135f-90ca-43e0-8442-a69ee272c801')\"\n",
              "              title=\"Convert this dataframe to an interactive table.\"\n",
              "              style=\"display:none;\">\n",
              "        \n",
              "  <svg xmlns=\"http://www.w3.org/2000/svg\" height=\"24px\"viewBox=\"0 0 24 24\"\n",
              "       width=\"24px\">\n",
              "    <path d=\"M0 0h24v24H0V0z\" fill=\"none\"/>\n",
              "    <path d=\"M18.56 5.44l.94 2.06.94-2.06 2.06-.94-2.06-.94-.94-2.06-.94 2.06-2.06.94zm-11 1L8.5 8.5l.94-2.06 2.06-.94-2.06-.94L8.5 2.5l-.94 2.06-2.06.94zm10 10l.94 2.06.94-2.06 2.06-.94-2.06-.94-.94-2.06-.94 2.06-2.06.94z\"/><path d=\"M17.41 7.96l-1.37-1.37c-.4-.4-.92-.59-1.43-.59-.52 0-1.04.2-1.43.59L10.3 9.45l-7.72 7.72c-.78.78-.78 2.05 0 2.83L4 21.41c.39.39.9.59 1.41.59.51 0 1.02-.2 1.41-.59l7.78-7.78 2.81-2.81c.8-.78.8-2.07 0-2.86zM5.41 20L4 18.59l7.72-7.72 1.47 1.35L5.41 20z\"/>\n",
              "  </svg>\n",
              "      </button>\n",
              "      \n",
              "  <style>\n",
              "    .colab-df-container {\n",
              "      display:flex;\n",
              "      flex-wrap:wrap;\n",
              "      gap: 12px;\n",
              "    }\n",
              "\n",
              "    .colab-df-convert {\n",
              "      background-color: #E8F0FE;\n",
              "      border: none;\n",
              "      border-radius: 50%;\n",
              "      cursor: pointer;\n",
              "      display: none;\n",
              "      fill: #1967D2;\n",
              "      height: 32px;\n",
              "      padding: 0 0 0 0;\n",
              "      width: 32px;\n",
              "    }\n",
              "\n",
              "    .colab-df-convert:hover {\n",
              "      background-color: #E2EBFA;\n",
              "      box-shadow: 0px 1px 2px rgba(60, 64, 67, 0.3), 0px 1px 3px 1px rgba(60, 64, 67, 0.15);\n",
              "      fill: #174EA6;\n",
              "    }\n",
              "\n",
              "    [theme=dark] .colab-df-convert {\n",
              "      background-color: #3B4455;\n",
              "      fill: #D2E3FC;\n",
              "    }\n",
              "\n",
              "    [theme=dark] .colab-df-convert:hover {\n",
              "      background-color: #434B5C;\n",
              "      box-shadow: 0px 1px 3px 1px rgba(0, 0, 0, 0.15);\n",
              "      filter: drop-shadow(0px 1px 2px rgba(0, 0, 0, 0.3));\n",
              "      fill: #FFFFFF;\n",
              "    }\n",
              "  </style>\n",
              "\n",
              "      <script>\n",
              "        const buttonEl =\n",
              "          document.querySelector('#df-2001135f-90ca-43e0-8442-a69ee272c801 button.colab-df-convert');\n",
              "        buttonEl.style.display =\n",
              "          google.colab.kernel.accessAllowed ? 'block' : 'none';\n",
              "\n",
              "        async function convertToInteractive(key) {\n",
              "          const element = document.querySelector('#df-2001135f-90ca-43e0-8442-a69ee272c801');\n",
              "          const dataTable =\n",
              "            await google.colab.kernel.invokeFunction('convertToInteractive',\n",
              "                                                     [key], {});\n",
              "          if (!dataTable) return;\n",
              "\n",
              "          const docLinkHtml = 'Like what you see? Visit the ' +\n",
              "            '<a target=\"_blank\" href=https://colab.research.google.com/notebooks/data_table.ipynb>data table notebook</a>'\n",
              "            + ' to learn more about interactive tables.';\n",
              "          element.innerHTML = '';\n",
              "          dataTable['output_type'] = 'display_data';\n",
              "          await google.colab.output.renderOutput(dataTable, element);\n",
              "          const docLink = document.createElement('div');\n",
              "          docLink.innerHTML = docLinkHtml;\n",
              "          element.appendChild(docLink);\n",
              "        }\n",
              "      </script>\n",
              "    </div>\n",
              "  </div>\n",
              "  "
            ]
          },
          "metadata": {},
          "execution_count": 5
        }
      ]
    },
    {
      "cell_type": "markdown",
      "source": [
        "Al construir la base de datos para los modelos, se obtiene lo siguiente:"
      ],
      "metadata": {
        "id": "m8K2ziQfSi9R"
      }
    },
    {
      "cell_type": "code",
      "source": [
        "df.head()"
      ],
      "metadata": {
        "id": "X5kOBskPSh4E",
        "colab": {
          "base_uri": "https://localhost:8080/"
        },
        "outputId": "c136b8e6-ada1-4b35-c422-c576941e2466"
      },
      "execution_count": null,
      "outputs": [
        {
          "output_type": "execute_result",
          "data": {
            "text/plain": [
              "       Fecha  Unidades  Dia  Dia_Semana  Fin_Semana  Mes  Inicio_Mes  Fin_Mes  \\\n",
              "0 2012-01-01       0.0    1           6           1    1           1        0   \n",
              "1 2012-01-02     188.0    2           0           0    1           0        0   \n",
              "2 2012-01-03     482.0    3           1           0    1           0        0   \n",
              "3 2012-01-04     927.0    4           2           0    1           0        0   \n",
              "4 2012-01-05    1159.0    5           3           0    1           0        0   \n",
              "\n",
              "   Anio  Inicio_Anio  Fin_Anio  Dia_Anio  Semana_Anio  Festivo  \n",
              "0  2012            1         0         1           52        1  \n",
              "1  2012            0         0         2            1        0  \n",
              "2  2012            0         0         3            1        0  \n",
              "3  2012            0         0         4            1        0  \n",
              "4  2012            0         0         5            1        0  "
            ],
            "text/html": [
              "\n",
              "  <div id=\"df-3a3c2262-c0a1-4b13-b042-424e02018fec\">\n",
              "    <div class=\"colab-df-container\">\n",
              "      <div>\n",
              "<style scoped>\n",
              "    .dataframe tbody tr th:only-of-type {\n",
              "        vertical-align: middle;\n",
              "    }\n",
              "\n",
              "    .dataframe tbody tr th {\n",
              "        vertical-align: top;\n",
              "    }\n",
              "\n",
              "    .dataframe thead th {\n",
              "        text-align: right;\n",
              "    }\n",
              "</style>\n",
              "<table border=\"1\" class=\"dataframe\">\n",
              "  <thead>\n",
              "    <tr style=\"text-align: right;\">\n",
              "      <th></th>\n",
              "      <th>Fecha</th>\n",
              "      <th>Unidades</th>\n",
              "      <th>Dia</th>\n",
              "      <th>Dia_Semana</th>\n",
              "      <th>Fin_Semana</th>\n",
              "      <th>Mes</th>\n",
              "      <th>Inicio_Mes</th>\n",
              "      <th>Fin_Mes</th>\n",
              "      <th>Anio</th>\n",
              "      <th>Inicio_Anio</th>\n",
              "      <th>Fin_Anio</th>\n",
              "      <th>Dia_Anio</th>\n",
              "      <th>Semana_Anio</th>\n",
              "      <th>Festivo</th>\n",
              "    </tr>\n",
              "  </thead>\n",
              "  <tbody>\n",
              "    <tr>\n",
              "      <th>0</th>\n",
              "      <td>2012-01-01</td>\n",
              "      <td>0.0</td>\n",
              "      <td>1</td>\n",
              "      <td>6</td>\n",
              "      <td>1</td>\n",
              "      <td>1</td>\n",
              "      <td>1</td>\n",
              "      <td>0</td>\n",
              "      <td>2012</td>\n",
              "      <td>1</td>\n",
              "      <td>0</td>\n",
              "      <td>1</td>\n",
              "      <td>52</td>\n",
              "      <td>1</td>\n",
              "    </tr>\n",
              "    <tr>\n",
              "      <th>1</th>\n",
              "      <td>2012-01-02</td>\n",
              "      <td>188.0</td>\n",
              "      <td>2</td>\n",
              "      <td>0</td>\n",
              "      <td>0</td>\n",
              "      <td>1</td>\n",
              "      <td>0</td>\n",
              "      <td>0</td>\n",
              "      <td>2012</td>\n",
              "      <td>0</td>\n",
              "      <td>0</td>\n",
              "      <td>2</td>\n",
              "      <td>1</td>\n",
              "      <td>0</td>\n",
              "    </tr>\n",
              "    <tr>\n",
              "      <th>2</th>\n",
              "      <td>2012-01-03</td>\n",
              "      <td>482.0</td>\n",
              "      <td>3</td>\n",
              "      <td>1</td>\n",
              "      <td>0</td>\n",
              "      <td>1</td>\n",
              "      <td>0</td>\n",
              "      <td>0</td>\n",
              "      <td>2012</td>\n",
              "      <td>0</td>\n",
              "      <td>0</td>\n",
              "      <td>3</td>\n",
              "      <td>1</td>\n",
              "      <td>0</td>\n",
              "    </tr>\n",
              "    <tr>\n",
              "      <th>3</th>\n",
              "      <td>2012-01-04</td>\n",
              "      <td>927.0</td>\n",
              "      <td>4</td>\n",
              "      <td>2</td>\n",
              "      <td>0</td>\n",
              "      <td>1</td>\n",
              "      <td>0</td>\n",
              "      <td>0</td>\n",
              "      <td>2012</td>\n",
              "      <td>0</td>\n",
              "      <td>0</td>\n",
              "      <td>4</td>\n",
              "      <td>1</td>\n",
              "      <td>0</td>\n",
              "    </tr>\n",
              "    <tr>\n",
              "      <th>4</th>\n",
              "      <td>2012-01-05</td>\n",
              "      <td>1159.0</td>\n",
              "      <td>5</td>\n",
              "      <td>3</td>\n",
              "      <td>0</td>\n",
              "      <td>1</td>\n",
              "      <td>0</td>\n",
              "      <td>0</td>\n",
              "      <td>2012</td>\n",
              "      <td>0</td>\n",
              "      <td>0</td>\n",
              "      <td>5</td>\n",
              "      <td>1</td>\n",
              "      <td>0</td>\n",
              "    </tr>\n",
              "  </tbody>\n",
              "</table>\n",
              "</div>\n",
              "      <button class=\"colab-df-convert\" onclick=\"convertToInteractive('df-3a3c2262-c0a1-4b13-b042-424e02018fec')\"\n",
              "              title=\"Convert this dataframe to an interactive table.\"\n",
              "              style=\"display:none;\">\n",
              "        \n",
              "  <svg xmlns=\"http://www.w3.org/2000/svg\" height=\"24px\"viewBox=\"0 0 24 24\"\n",
              "       width=\"24px\">\n",
              "    <path d=\"M0 0h24v24H0V0z\" fill=\"none\"/>\n",
              "    <path d=\"M18.56 5.44l.94 2.06.94-2.06 2.06-.94-2.06-.94-.94-2.06-.94 2.06-2.06.94zm-11 1L8.5 8.5l.94-2.06 2.06-.94-2.06-.94L8.5 2.5l-.94 2.06-2.06.94zm10 10l.94 2.06.94-2.06 2.06-.94-2.06-.94-.94-2.06-.94 2.06-2.06.94z\"/><path d=\"M17.41 7.96l-1.37-1.37c-.4-.4-.92-.59-1.43-.59-.52 0-1.04.2-1.43.59L10.3 9.45l-7.72 7.72c-.78.78-.78 2.05 0 2.83L4 21.41c.39.39.9.59 1.41.59.51 0 1.02-.2 1.41-.59l7.78-7.78 2.81-2.81c.8-.78.8-2.07 0-2.86zM5.41 20L4 18.59l7.72-7.72 1.47 1.35L5.41 20z\"/>\n",
              "  </svg>\n",
              "      </button>\n",
              "      \n",
              "  <style>\n",
              "    .colab-df-container {\n",
              "      display:flex;\n",
              "      flex-wrap:wrap;\n",
              "      gap: 12px;\n",
              "    }\n",
              "\n",
              "    .colab-df-convert {\n",
              "      background-color: #E8F0FE;\n",
              "      border: none;\n",
              "      border-radius: 50%;\n",
              "      cursor: pointer;\n",
              "      display: none;\n",
              "      fill: #1967D2;\n",
              "      height: 32px;\n",
              "      padding: 0 0 0 0;\n",
              "      width: 32px;\n",
              "    }\n",
              "\n",
              "    .colab-df-convert:hover {\n",
              "      background-color: #E2EBFA;\n",
              "      box-shadow: 0px 1px 2px rgba(60, 64, 67, 0.3), 0px 1px 3px 1px rgba(60, 64, 67, 0.15);\n",
              "      fill: #174EA6;\n",
              "    }\n",
              "\n",
              "    [theme=dark] .colab-df-convert {\n",
              "      background-color: #3B4455;\n",
              "      fill: #D2E3FC;\n",
              "    }\n",
              "\n",
              "    [theme=dark] .colab-df-convert:hover {\n",
              "      background-color: #434B5C;\n",
              "      box-shadow: 0px 1px 3px 1px rgba(0, 0, 0, 0.15);\n",
              "      filter: drop-shadow(0px 1px 2px rgba(0, 0, 0, 0.3));\n",
              "      fill: #FFFFFF;\n",
              "    }\n",
              "  </style>\n",
              "\n",
              "      <script>\n",
              "        const buttonEl =\n",
              "          document.querySelector('#df-3a3c2262-c0a1-4b13-b042-424e02018fec button.colab-df-convert');\n",
              "        buttonEl.style.display =\n",
              "          google.colab.kernel.accessAllowed ? 'block' : 'none';\n",
              "\n",
              "        async function convertToInteractive(key) {\n",
              "          const element = document.querySelector('#df-3a3c2262-c0a1-4b13-b042-424e02018fec');\n",
              "          const dataTable =\n",
              "            await google.colab.kernel.invokeFunction('convertToInteractive',\n",
              "                                                     [key], {});\n",
              "          if (!dataTable) return;\n",
              "\n",
              "          const docLinkHtml = 'Like what you see? Visit the ' +\n",
              "            '<a target=\"_blank\" href=https://colab.research.google.com/notebooks/data_table.ipynb>data table notebook</a>'\n",
              "            + ' to learn more about interactive tables.';\n",
              "          element.innerHTML = '';\n",
              "          dataTable['output_type'] = 'display_data';\n",
              "          await google.colab.output.renderOutput(dataTable, element);\n",
              "          const docLink = document.createElement('div');\n",
              "          docLink.innerHTML = docLinkHtml;\n",
              "          element.appendChild(docLink);\n",
              "        }\n",
              "      </script>\n",
              "    </div>\n",
              "  </div>\n",
              "  "
            ]
          },
          "metadata": {},
          "execution_count": 6
        }
      ]
    },
    {
      "cell_type": "markdown",
      "source": [
        "Después, se construye la base de datos con las fechas del primer semestre del 2018. Esta base de datos será utilizada para realizar predicciones respecto a la posible cantidad de registros de vehículos en ese entonces."
      ],
      "metadata": {
        "id": "6bHCn56NS5rE"
      }
    },
    {
      "cell_type": "code",
      "source": [
        "inicio_2018 = dt.date(2018,1,1)\n",
        "fin_2018 = dt.date(2018,7,1)\n",
        "df_2018 = pd.DataFrame({'Fecha': pd.date_range(inicio_2018, fin_2018-dt.timedelta(days=1),freq='d')})\n",
        "df_2018 = database(df_2018)\n",
        "df_2018"
      ],
      "metadata": {
        "colab": {
          "base_uri": "https://localhost:8080/"
        },
        "id": "8kQV2L46TZSL",
        "outputId": "d88b22ce-b700-4051-85ce-ed820ac684aa"
      },
      "execution_count": null,
      "outputs": [
        {
          "output_type": "execute_result",
          "data": {
            "text/plain": [
              "         Fecha  Dia  Dia_Semana  Fin_Semana  Mes  Inicio_Mes  Fin_Mes  Anio  \\\n",
              "0   2018-01-01    1           0           0    1           1        0  2018   \n",
              "1   2018-01-02    2           1           0    1           0        0  2018   \n",
              "2   2018-01-03    3           2           0    1           0        0  2018   \n",
              "3   2018-01-04    4           3           0    1           0        0  2018   \n",
              "4   2018-01-05    5           4           0    1           0        0  2018   \n",
              "..         ...  ...         ...         ...  ...         ...      ...   ...   \n",
              "176 2018-06-26   26           1           0    6           0        0  2018   \n",
              "177 2018-06-27   27           2           0    6           0        0  2018   \n",
              "178 2018-06-28   28           3           0    6           0        0  2018   \n",
              "179 2018-06-29   29           4           0    6           0        0  2018   \n",
              "180 2018-06-30   30           5           1    6           0        1  2018   \n",
              "\n",
              "     Inicio_Anio  Fin_Anio  Dia_Anio  Semana_Anio  Festivo  \n",
              "0              1         0         1            1        1  \n",
              "1              0         0         2            1        0  \n",
              "2              0         0         3            1        0  \n",
              "3              0         0         4            1        0  \n",
              "4              0         0         5            1        0  \n",
              "..           ...       ...       ...          ...      ...  \n",
              "176            0         0       177           26        0  \n",
              "177            0         0       178           26        0  \n",
              "178            0         0       179           26        0  \n",
              "179            0         0       180           26        0  \n",
              "180            0         0       181           26        0  \n",
              "\n",
              "[181 rows x 13 columns]"
            ],
            "text/html": [
              "\n",
              "  <div id=\"df-d2e3f7cc-10a7-40c9-8355-ef3a1fa482b6\">\n",
              "    <div class=\"colab-df-container\">\n",
              "      <div>\n",
              "<style scoped>\n",
              "    .dataframe tbody tr th:only-of-type {\n",
              "        vertical-align: middle;\n",
              "    }\n",
              "\n",
              "    .dataframe tbody tr th {\n",
              "        vertical-align: top;\n",
              "    }\n",
              "\n",
              "    .dataframe thead th {\n",
              "        text-align: right;\n",
              "    }\n",
              "</style>\n",
              "<table border=\"1\" class=\"dataframe\">\n",
              "  <thead>\n",
              "    <tr style=\"text-align: right;\">\n",
              "      <th></th>\n",
              "      <th>Fecha</th>\n",
              "      <th>Dia</th>\n",
              "      <th>Dia_Semana</th>\n",
              "      <th>Fin_Semana</th>\n",
              "      <th>Mes</th>\n",
              "      <th>Inicio_Mes</th>\n",
              "      <th>Fin_Mes</th>\n",
              "      <th>Anio</th>\n",
              "      <th>Inicio_Anio</th>\n",
              "      <th>Fin_Anio</th>\n",
              "      <th>Dia_Anio</th>\n",
              "      <th>Semana_Anio</th>\n",
              "      <th>Festivo</th>\n",
              "    </tr>\n",
              "  </thead>\n",
              "  <tbody>\n",
              "    <tr>\n",
              "      <th>0</th>\n",
              "      <td>2018-01-01</td>\n",
              "      <td>1</td>\n",
              "      <td>0</td>\n",
              "      <td>0</td>\n",
              "      <td>1</td>\n",
              "      <td>1</td>\n",
              "      <td>0</td>\n",
              "      <td>2018</td>\n",
              "      <td>1</td>\n",
              "      <td>0</td>\n",
              "      <td>1</td>\n",
              "      <td>1</td>\n",
              "      <td>1</td>\n",
              "    </tr>\n",
              "    <tr>\n",
              "      <th>1</th>\n",
              "      <td>2018-01-02</td>\n",
              "      <td>2</td>\n",
              "      <td>1</td>\n",
              "      <td>0</td>\n",
              "      <td>1</td>\n",
              "      <td>0</td>\n",
              "      <td>0</td>\n",
              "      <td>2018</td>\n",
              "      <td>0</td>\n",
              "      <td>0</td>\n",
              "      <td>2</td>\n",
              "      <td>1</td>\n",
              "      <td>0</td>\n",
              "    </tr>\n",
              "    <tr>\n",
              "      <th>2</th>\n",
              "      <td>2018-01-03</td>\n",
              "      <td>3</td>\n",
              "      <td>2</td>\n",
              "      <td>0</td>\n",
              "      <td>1</td>\n",
              "      <td>0</td>\n",
              "      <td>0</td>\n",
              "      <td>2018</td>\n",
              "      <td>0</td>\n",
              "      <td>0</td>\n",
              "      <td>3</td>\n",
              "      <td>1</td>\n",
              "      <td>0</td>\n",
              "    </tr>\n",
              "    <tr>\n",
              "      <th>3</th>\n",
              "      <td>2018-01-04</td>\n",
              "      <td>4</td>\n",
              "      <td>3</td>\n",
              "      <td>0</td>\n",
              "      <td>1</td>\n",
              "      <td>0</td>\n",
              "      <td>0</td>\n",
              "      <td>2018</td>\n",
              "      <td>0</td>\n",
              "      <td>0</td>\n",
              "      <td>4</td>\n",
              "      <td>1</td>\n",
              "      <td>0</td>\n",
              "    </tr>\n",
              "    <tr>\n",
              "      <th>4</th>\n",
              "      <td>2018-01-05</td>\n",
              "      <td>5</td>\n",
              "      <td>4</td>\n",
              "      <td>0</td>\n",
              "      <td>1</td>\n",
              "      <td>0</td>\n",
              "      <td>0</td>\n",
              "      <td>2018</td>\n",
              "      <td>0</td>\n",
              "      <td>0</td>\n",
              "      <td>5</td>\n",
              "      <td>1</td>\n",
              "      <td>0</td>\n",
              "    </tr>\n",
              "    <tr>\n",
              "      <th>...</th>\n",
              "      <td>...</td>\n",
              "      <td>...</td>\n",
              "      <td>...</td>\n",
              "      <td>...</td>\n",
              "      <td>...</td>\n",
              "      <td>...</td>\n",
              "      <td>...</td>\n",
              "      <td>...</td>\n",
              "      <td>...</td>\n",
              "      <td>...</td>\n",
              "      <td>...</td>\n",
              "      <td>...</td>\n",
              "      <td>...</td>\n",
              "    </tr>\n",
              "    <tr>\n",
              "      <th>176</th>\n",
              "      <td>2018-06-26</td>\n",
              "      <td>26</td>\n",
              "      <td>1</td>\n",
              "      <td>0</td>\n",
              "      <td>6</td>\n",
              "      <td>0</td>\n",
              "      <td>0</td>\n",
              "      <td>2018</td>\n",
              "      <td>0</td>\n",
              "      <td>0</td>\n",
              "      <td>177</td>\n",
              "      <td>26</td>\n",
              "      <td>0</td>\n",
              "    </tr>\n",
              "    <tr>\n",
              "      <th>177</th>\n",
              "      <td>2018-06-27</td>\n",
              "      <td>27</td>\n",
              "      <td>2</td>\n",
              "      <td>0</td>\n",
              "      <td>6</td>\n",
              "      <td>0</td>\n",
              "      <td>0</td>\n",
              "      <td>2018</td>\n",
              "      <td>0</td>\n",
              "      <td>0</td>\n",
              "      <td>178</td>\n",
              "      <td>26</td>\n",
              "      <td>0</td>\n",
              "    </tr>\n",
              "    <tr>\n",
              "      <th>178</th>\n",
              "      <td>2018-06-28</td>\n",
              "      <td>28</td>\n",
              "      <td>3</td>\n",
              "      <td>0</td>\n",
              "      <td>6</td>\n",
              "      <td>0</td>\n",
              "      <td>0</td>\n",
              "      <td>2018</td>\n",
              "      <td>0</td>\n",
              "      <td>0</td>\n",
              "      <td>179</td>\n",
              "      <td>26</td>\n",
              "      <td>0</td>\n",
              "    </tr>\n",
              "    <tr>\n",
              "      <th>179</th>\n",
              "      <td>2018-06-29</td>\n",
              "      <td>29</td>\n",
              "      <td>4</td>\n",
              "      <td>0</td>\n",
              "      <td>6</td>\n",
              "      <td>0</td>\n",
              "      <td>0</td>\n",
              "      <td>2018</td>\n",
              "      <td>0</td>\n",
              "      <td>0</td>\n",
              "      <td>180</td>\n",
              "      <td>26</td>\n",
              "      <td>0</td>\n",
              "    </tr>\n",
              "    <tr>\n",
              "      <th>180</th>\n",
              "      <td>2018-06-30</td>\n",
              "      <td>30</td>\n",
              "      <td>5</td>\n",
              "      <td>1</td>\n",
              "      <td>6</td>\n",
              "      <td>0</td>\n",
              "      <td>1</td>\n",
              "      <td>2018</td>\n",
              "      <td>0</td>\n",
              "      <td>0</td>\n",
              "      <td>181</td>\n",
              "      <td>26</td>\n",
              "      <td>0</td>\n",
              "    </tr>\n",
              "  </tbody>\n",
              "</table>\n",
              "<p>181 rows × 13 columns</p>\n",
              "</div>\n",
              "      <button class=\"colab-df-convert\" onclick=\"convertToInteractive('df-d2e3f7cc-10a7-40c9-8355-ef3a1fa482b6')\"\n",
              "              title=\"Convert this dataframe to an interactive table.\"\n",
              "              style=\"display:none;\">\n",
              "        \n",
              "  <svg xmlns=\"http://www.w3.org/2000/svg\" height=\"24px\"viewBox=\"0 0 24 24\"\n",
              "       width=\"24px\">\n",
              "    <path d=\"M0 0h24v24H0V0z\" fill=\"none\"/>\n",
              "    <path d=\"M18.56 5.44l.94 2.06.94-2.06 2.06-.94-2.06-.94-.94-2.06-.94 2.06-2.06.94zm-11 1L8.5 8.5l.94-2.06 2.06-.94-2.06-.94L8.5 2.5l-.94 2.06-2.06.94zm10 10l.94 2.06.94-2.06 2.06-.94-2.06-.94-.94-2.06-.94 2.06-2.06.94z\"/><path d=\"M17.41 7.96l-1.37-1.37c-.4-.4-.92-.59-1.43-.59-.52 0-1.04.2-1.43.59L10.3 9.45l-7.72 7.72c-.78.78-.78 2.05 0 2.83L4 21.41c.39.39.9.59 1.41.59.51 0 1.02-.2 1.41-.59l7.78-7.78 2.81-2.81c.8-.78.8-2.07 0-2.86zM5.41 20L4 18.59l7.72-7.72 1.47 1.35L5.41 20z\"/>\n",
              "  </svg>\n",
              "      </button>\n",
              "      \n",
              "  <style>\n",
              "    .colab-df-container {\n",
              "      display:flex;\n",
              "      flex-wrap:wrap;\n",
              "      gap: 12px;\n",
              "    }\n",
              "\n",
              "    .colab-df-convert {\n",
              "      background-color: #E8F0FE;\n",
              "      border: none;\n",
              "      border-radius: 50%;\n",
              "      cursor: pointer;\n",
              "      display: none;\n",
              "      fill: #1967D2;\n",
              "      height: 32px;\n",
              "      padding: 0 0 0 0;\n",
              "      width: 32px;\n",
              "    }\n",
              "\n",
              "    .colab-df-convert:hover {\n",
              "      background-color: #E2EBFA;\n",
              "      box-shadow: 0px 1px 2px rgba(60, 64, 67, 0.3), 0px 1px 3px 1px rgba(60, 64, 67, 0.15);\n",
              "      fill: #174EA6;\n",
              "    }\n",
              "\n",
              "    [theme=dark] .colab-df-convert {\n",
              "      background-color: #3B4455;\n",
              "      fill: #D2E3FC;\n",
              "    }\n",
              "\n",
              "    [theme=dark] .colab-df-convert:hover {\n",
              "      background-color: #434B5C;\n",
              "      box-shadow: 0px 1px 3px 1px rgba(0, 0, 0, 0.15);\n",
              "      filter: drop-shadow(0px 1px 2px rgba(0, 0, 0, 0.3));\n",
              "      fill: #FFFFFF;\n",
              "    }\n",
              "  </style>\n",
              "\n",
              "      <script>\n",
              "        const buttonEl =\n",
              "          document.querySelector('#df-d2e3f7cc-10a7-40c9-8355-ef3a1fa482b6 button.colab-df-convert');\n",
              "        buttonEl.style.display =\n",
              "          google.colab.kernel.accessAllowed ? 'block' : 'none';\n",
              "\n",
              "        async function convertToInteractive(key) {\n",
              "          const element = document.querySelector('#df-d2e3f7cc-10a7-40c9-8355-ef3a1fa482b6');\n",
              "          const dataTable =\n",
              "            await google.colab.kernel.invokeFunction('convertToInteractive',\n",
              "                                                     [key], {});\n",
              "          if (!dataTable) return;\n",
              "\n",
              "          const docLinkHtml = 'Like what you see? Visit the ' +\n",
              "            '<a target=\"_blank\" href=https://colab.research.google.com/notebooks/data_table.ipynb>data table notebook</a>'\n",
              "            + ' to learn more about interactive tables.';\n",
              "          element.innerHTML = '';\n",
              "          dataTable['output_type'] = 'display_data';\n",
              "          await google.colab.output.renderOutput(dataTable, element);\n",
              "          const docLink = document.createElement('div');\n",
              "          docLink.innerHTML = docLinkHtml;\n",
              "          element.appendChild(docLink);\n",
              "        }\n",
              "      </script>\n",
              "    </div>\n",
              "  </div>\n",
              "  "
            ]
          },
          "metadata": {},
          "execution_count": 7
        }
      ]
    },
    {
      "cell_type": "markdown",
      "source": [
        "Se eliminan las fechas de la base de datos del 2018 debido a que ya no es relevante."
      ],
      "metadata": {
        "id": "0gGTB_7rTuBO"
      }
    },
    {
      "cell_type": "code",
      "source": [
        "predict_2018 = df_2018.drop(['Fecha'], axis=1)\n",
        "predict_2018"
      ],
      "metadata": {
        "colab": {
          "base_uri": "https://localhost:8080/"
        },
        "id": "w6P98plRXWjm",
        "outputId": "25cc3b4b-b041-4294-8513-7663c10b0274"
      },
      "execution_count": null,
      "outputs": [
        {
          "output_type": "execute_result",
          "data": {
            "text/plain": [
              "     Dia  Dia_Semana  Fin_Semana  Mes  Inicio_Mes  Fin_Mes  Anio  Inicio_Anio  \\\n",
              "0      1           0           0    1           1        0  2018            1   \n",
              "1      2           1           0    1           0        0  2018            0   \n",
              "2      3           2           0    1           0        0  2018            0   \n",
              "3      4           3           0    1           0        0  2018            0   \n",
              "4      5           4           0    1           0        0  2018            0   \n",
              "..   ...         ...         ...  ...         ...      ...   ...          ...   \n",
              "176   26           1           0    6           0        0  2018            0   \n",
              "177   27           2           0    6           0        0  2018            0   \n",
              "178   28           3           0    6           0        0  2018            0   \n",
              "179   29           4           0    6           0        0  2018            0   \n",
              "180   30           5           1    6           0        1  2018            0   \n",
              "\n",
              "     Fin_Anio  Dia_Anio  Semana_Anio  Festivo  \n",
              "0           0         1            1        1  \n",
              "1           0         2            1        0  \n",
              "2           0         3            1        0  \n",
              "3           0         4            1        0  \n",
              "4           0         5            1        0  \n",
              "..        ...       ...          ...      ...  \n",
              "176         0       177           26        0  \n",
              "177         0       178           26        0  \n",
              "178         0       179           26        0  \n",
              "179         0       180           26        0  \n",
              "180         0       181           26        0  \n",
              "\n",
              "[181 rows x 12 columns]"
            ],
            "text/html": [
              "\n",
              "  <div id=\"df-833e0c69-e53a-4838-a66e-e37a52a079fa\">\n",
              "    <div class=\"colab-df-container\">\n",
              "      <div>\n",
              "<style scoped>\n",
              "    .dataframe tbody tr th:only-of-type {\n",
              "        vertical-align: middle;\n",
              "    }\n",
              "\n",
              "    .dataframe tbody tr th {\n",
              "        vertical-align: top;\n",
              "    }\n",
              "\n",
              "    .dataframe thead th {\n",
              "        text-align: right;\n",
              "    }\n",
              "</style>\n",
              "<table border=\"1\" class=\"dataframe\">\n",
              "  <thead>\n",
              "    <tr style=\"text-align: right;\">\n",
              "      <th></th>\n",
              "      <th>Dia</th>\n",
              "      <th>Dia_Semana</th>\n",
              "      <th>Fin_Semana</th>\n",
              "      <th>Mes</th>\n",
              "      <th>Inicio_Mes</th>\n",
              "      <th>Fin_Mes</th>\n",
              "      <th>Anio</th>\n",
              "      <th>Inicio_Anio</th>\n",
              "      <th>Fin_Anio</th>\n",
              "      <th>Dia_Anio</th>\n",
              "      <th>Semana_Anio</th>\n",
              "      <th>Festivo</th>\n",
              "    </tr>\n",
              "  </thead>\n",
              "  <tbody>\n",
              "    <tr>\n",
              "      <th>0</th>\n",
              "      <td>1</td>\n",
              "      <td>0</td>\n",
              "      <td>0</td>\n",
              "      <td>1</td>\n",
              "      <td>1</td>\n",
              "      <td>0</td>\n",
              "      <td>2018</td>\n",
              "      <td>1</td>\n",
              "      <td>0</td>\n",
              "      <td>1</td>\n",
              "      <td>1</td>\n",
              "      <td>1</td>\n",
              "    </tr>\n",
              "    <tr>\n",
              "      <th>1</th>\n",
              "      <td>2</td>\n",
              "      <td>1</td>\n",
              "      <td>0</td>\n",
              "      <td>1</td>\n",
              "      <td>0</td>\n",
              "      <td>0</td>\n",
              "      <td>2018</td>\n",
              "      <td>0</td>\n",
              "      <td>0</td>\n",
              "      <td>2</td>\n",
              "      <td>1</td>\n",
              "      <td>0</td>\n",
              "    </tr>\n",
              "    <tr>\n",
              "      <th>2</th>\n",
              "      <td>3</td>\n",
              "      <td>2</td>\n",
              "      <td>0</td>\n",
              "      <td>1</td>\n",
              "      <td>0</td>\n",
              "      <td>0</td>\n",
              "      <td>2018</td>\n",
              "      <td>0</td>\n",
              "      <td>0</td>\n",
              "      <td>3</td>\n",
              "      <td>1</td>\n",
              "      <td>0</td>\n",
              "    </tr>\n",
              "    <tr>\n",
              "      <th>3</th>\n",
              "      <td>4</td>\n",
              "      <td>3</td>\n",
              "      <td>0</td>\n",
              "      <td>1</td>\n",
              "      <td>0</td>\n",
              "      <td>0</td>\n",
              "      <td>2018</td>\n",
              "      <td>0</td>\n",
              "      <td>0</td>\n",
              "      <td>4</td>\n",
              "      <td>1</td>\n",
              "      <td>0</td>\n",
              "    </tr>\n",
              "    <tr>\n",
              "      <th>4</th>\n",
              "      <td>5</td>\n",
              "      <td>4</td>\n",
              "      <td>0</td>\n",
              "      <td>1</td>\n",
              "      <td>0</td>\n",
              "      <td>0</td>\n",
              "      <td>2018</td>\n",
              "      <td>0</td>\n",
              "      <td>0</td>\n",
              "      <td>5</td>\n",
              "      <td>1</td>\n",
              "      <td>0</td>\n",
              "    </tr>\n",
              "    <tr>\n",
              "      <th>...</th>\n",
              "      <td>...</td>\n",
              "      <td>...</td>\n",
              "      <td>...</td>\n",
              "      <td>...</td>\n",
              "      <td>...</td>\n",
              "      <td>...</td>\n",
              "      <td>...</td>\n",
              "      <td>...</td>\n",
              "      <td>...</td>\n",
              "      <td>...</td>\n",
              "      <td>...</td>\n",
              "      <td>...</td>\n",
              "    </tr>\n",
              "    <tr>\n",
              "      <th>176</th>\n",
              "      <td>26</td>\n",
              "      <td>1</td>\n",
              "      <td>0</td>\n",
              "      <td>6</td>\n",
              "      <td>0</td>\n",
              "      <td>0</td>\n",
              "      <td>2018</td>\n",
              "      <td>0</td>\n",
              "      <td>0</td>\n",
              "      <td>177</td>\n",
              "      <td>26</td>\n",
              "      <td>0</td>\n",
              "    </tr>\n",
              "    <tr>\n",
              "      <th>177</th>\n",
              "      <td>27</td>\n",
              "      <td>2</td>\n",
              "      <td>0</td>\n",
              "      <td>6</td>\n",
              "      <td>0</td>\n",
              "      <td>0</td>\n",
              "      <td>2018</td>\n",
              "      <td>0</td>\n",
              "      <td>0</td>\n",
              "      <td>178</td>\n",
              "      <td>26</td>\n",
              "      <td>0</td>\n",
              "    </tr>\n",
              "    <tr>\n",
              "      <th>178</th>\n",
              "      <td>28</td>\n",
              "      <td>3</td>\n",
              "      <td>0</td>\n",
              "      <td>6</td>\n",
              "      <td>0</td>\n",
              "      <td>0</td>\n",
              "      <td>2018</td>\n",
              "      <td>0</td>\n",
              "      <td>0</td>\n",
              "      <td>179</td>\n",
              "      <td>26</td>\n",
              "      <td>0</td>\n",
              "    </tr>\n",
              "    <tr>\n",
              "      <th>179</th>\n",
              "      <td>29</td>\n",
              "      <td>4</td>\n",
              "      <td>0</td>\n",
              "      <td>6</td>\n",
              "      <td>0</td>\n",
              "      <td>0</td>\n",
              "      <td>2018</td>\n",
              "      <td>0</td>\n",
              "      <td>0</td>\n",
              "      <td>180</td>\n",
              "      <td>26</td>\n",
              "      <td>0</td>\n",
              "    </tr>\n",
              "    <tr>\n",
              "      <th>180</th>\n",
              "      <td>30</td>\n",
              "      <td>5</td>\n",
              "      <td>1</td>\n",
              "      <td>6</td>\n",
              "      <td>0</td>\n",
              "      <td>1</td>\n",
              "      <td>2018</td>\n",
              "      <td>0</td>\n",
              "      <td>0</td>\n",
              "      <td>181</td>\n",
              "      <td>26</td>\n",
              "      <td>0</td>\n",
              "    </tr>\n",
              "  </tbody>\n",
              "</table>\n",
              "<p>181 rows × 12 columns</p>\n",
              "</div>\n",
              "      <button class=\"colab-df-convert\" onclick=\"convertToInteractive('df-833e0c69-e53a-4838-a66e-e37a52a079fa')\"\n",
              "              title=\"Convert this dataframe to an interactive table.\"\n",
              "              style=\"display:none;\">\n",
              "        \n",
              "  <svg xmlns=\"http://www.w3.org/2000/svg\" height=\"24px\"viewBox=\"0 0 24 24\"\n",
              "       width=\"24px\">\n",
              "    <path d=\"M0 0h24v24H0V0z\" fill=\"none\"/>\n",
              "    <path d=\"M18.56 5.44l.94 2.06.94-2.06 2.06-.94-2.06-.94-.94-2.06-.94 2.06-2.06.94zm-11 1L8.5 8.5l.94-2.06 2.06-.94-2.06-.94L8.5 2.5l-.94 2.06-2.06.94zm10 10l.94 2.06.94-2.06 2.06-.94-2.06-.94-.94-2.06-.94 2.06-2.06.94z\"/><path d=\"M17.41 7.96l-1.37-1.37c-.4-.4-.92-.59-1.43-.59-.52 0-1.04.2-1.43.59L10.3 9.45l-7.72 7.72c-.78.78-.78 2.05 0 2.83L4 21.41c.39.39.9.59 1.41.59.51 0 1.02-.2 1.41-.59l7.78-7.78 2.81-2.81c.8-.78.8-2.07 0-2.86zM5.41 20L4 18.59l7.72-7.72 1.47 1.35L5.41 20z\"/>\n",
              "  </svg>\n",
              "      </button>\n",
              "      \n",
              "  <style>\n",
              "    .colab-df-container {\n",
              "      display:flex;\n",
              "      flex-wrap:wrap;\n",
              "      gap: 12px;\n",
              "    }\n",
              "\n",
              "    .colab-df-convert {\n",
              "      background-color: #E8F0FE;\n",
              "      border: none;\n",
              "      border-radius: 50%;\n",
              "      cursor: pointer;\n",
              "      display: none;\n",
              "      fill: #1967D2;\n",
              "      height: 32px;\n",
              "      padding: 0 0 0 0;\n",
              "      width: 32px;\n",
              "    }\n",
              "\n",
              "    .colab-df-convert:hover {\n",
              "      background-color: #E2EBFA;\n",
              "      box-shadow: 0px 1px 2px rgba(60, 64, 67, 0.3), 0px 1px 3px 1px rgba(60, 64, 67, 0.15);\n",
              "      fill: #174EA6;\n",
              "    }\n",
              "\n",
              "    [theme=dark] .colab-df-convert {\n",
              "      background-color: #3B4455;\n",
              "      fill: #D2E3FC;\n",
              "    }\n",
              "\n",
              "    [theme=dark] .colab-df-convert:hover {\n",
              "      background-color: #434B5C;\n",
              "      box-shadow: 0px 1px 3px 1px rgba(0, 0, 0, 0.15);\n",
              "      filter: drop-shadow(0px 1px 2px rgba(0, 0, 0, 0.3));\n",
              "      fill: #FFFFFF;\n",
              "    }\n",
              "  </style>\n",
              "\n",
              "      <script>\n",
              "        const buttonEl =\n",
              "          document.querySelector('#df-833e0c69-e53a-4838-a66e-e37a52a079fa button.colab-df-convert');\n",
              "        buttonEl.style.display =\n",
              "          google.colab.kernel.accessAllowed ? 'block' : 'none';\n",
              "\n",
              "        async function convertToInteractive(key) {\n",
              "          const element = document.querySelector('#df-833e0c69-e53a-4838-a66e-e37a52a079fa');\n",
              "          const dataTable =\n",
              "            await google.colab.kernel.invokeFunction('convertToInteractive',\n",
              "                                                     [key], {});\n",
              "          if (!dataTable) return;\n",
              "\n",
              "          const docLinkHtml = 'Like what you see? Visit the ' +\n",
              "            '<a target=\"_blank\" href=https://colab.research.google.com/notebooks/data_table.ipynb>data table notebook</a>'\n",
              "            + ' to learn more about interactive tables.';\n",
              "          element.innerHTML = '';\n",
              "          dataTable['output_type'] = 'display_data';\n",
              "          await google.colab.output.renderOutput(dataTable, element);\n",
              "          const docLink = document.createElement('div');\n",
              "          docLink.innerHTML = docLinkHtml;\n",
              "          element.appendChild(docLink);\n",
              "        }\n",
              "      </script>\n",
              "    </div>\n",
              "  </div>\n",
              "  "
            ]
          },
          "metadata": {},
          "execution_count": 8
        }
      ]
    },
    {
      "cell_type": "markdown",
      "source": [
        "## División de base de datos entre entrenamiento y validación"
      ],
      "metadata": {
        "id": "QvfEQiRQ6Zlk"
      }
    },
    {
      "cell_type": "markdown",
      "source": [
        "Ahora, se extraen los datos a usar para entrenamiento y para validation.\n",
        "\n",
        "+ Training: desde 01/01/2012 hasta 31/12/2016.\n",
        "+ Validation: desde 01/01/2017 hasta 31/12/2017.\n",
        "\n",
        "Luego se separan las unidades para tener los valores objetivo con los que compararemos lso modelos."
      ],
      "metadata": {
        "id": "s8TSd2ULUkRV"
      }
    },
    {
      "cell_type": "code",
      "source": [
        "df_training = df[df['Anio'] <= 2016].drop(['Fecha'], axis=1)\n",
        "training = df_training.drop(['Unidades'], axis=1)\n",
        "training_target = df_training['Unidades']\n",
        "print(training)\n",
        "training_target"
      ],
      "metadata": {
        "colab": {
          "base_uri": "https://localhost:8080/"
        },
        "id": "hAZSC9VQ6eDX",
        "outputId": "8b004a89-4d4c-4bad-fecf-03458c99eb97"
      },
      "execution_count": null,
      "outputs": [
        {
          "output_type": "stream",
          "name": "stdout",
          "text": [
            "      Dia  Dia_Semana  Fin_Semana  Mes  Inicio_Mes  Fin_Mes  Anio  \\\n",
            "0       1           6           1    1           1        0  2012   \n",
            "1       2           0           0    1           0        0  2012   \n",
            "2       3           1           0    1           0        0  2012   \n",
            "3       4           2           0    1           0        0  2012   \n",
            "4       5           3           0    1           0        0  2012   \n",
            "...   ...         ...         ...  ...         ...      ...   ...   \n",
            "1822   27           1           0   12           0        0  2016   \n",
            "1823   28           2           0   12           0        0  2016   \n",
            "1824   29           3           0   12           0        0  2016   \n",
            "1825   30           4           0   12           0        0  2016   \n",
            "1826   31           5           1   12           0        1  2016   \n",
            "\n",
            "      Inicio_Anio  Fin_Anio  Dia_Anio  Semana_Anio  Festivo  \n",
            "0               1         0         1           52        1  \n",
            "1               0         0         2            1        0  \n",
            "2               0         0         3            1        0  \n",
            "3               0         0         4            1        0  \n",
            "4               0         0         5            1        0  \n",
            "...           ...       ...       ...          ...      ...  \n",
            "1822            0         0       362           52        0  \n",
            "1823            0         0       363           52        0  \n",
            "1824            0         0       364           52        0  \n",
            "1825            0         0       365           52        0  \n",
            "1826            0         1       366           52        0  \n",
            "\n",
            "[1827 rows x 12 columns]\n"
          ]
        },
        {
          "output_type": "execute_result",
          "data": {
            "text/plain": [
              "0          0.0\n",
              "1        188.0\n",
              "2        482.0\n",
              "3        927.0\n",
              "4       1159.0\n",
              "         ...  \n",
              "1822    1922.0\n",
              "1823    2409.0\n",
              "1824    3603.0\n",
              "1825     965.0\n",
              "1826      46.0\n",
              "Name: Unidades, Length: 1827, dtype: float64"
            ]
          },
          "metadata": {},
          "execution_count": 9
        }
      ]
    },
    {
      "cell_type": "code",
      "source": [
        "df_validation = df[df['Anio'] == 2017].drop(['Fecha'], axis=1)\n",
        "validation = df_validation.drop(['Unidades'], axis=1)\n",
        "validation_target = df_validation['Unidades']\n",
        "print(validation)\n",
        "validation_target"
      ],
      "metadata": {
        "colab": {
          "base_uri": "https://localhost:8080/"
        },
        "id": "6dBpjmAk7EDI",
        "outputId": "33981995-59c0-4a2f-90ce-cab338413fbb"
      },
      "execution_count": null,
      "outputs": [
        {
          "output_type": "stream",
          "name": "stdout",
          "text": [
            "      Dia  Dia_Semana  Fin_Semana  Mes  Inicio_Mes  Fin_Mes  Anio  \\\n",
            "1827    1           6           1    1           1        0  2017   \n",
            "1828    2           0           0    1           0        0  2017   \n",
            "1829    3           1           0    1           0        0  2017   \n",
            "1830    4           2           0    1           0        0  2017   \n",
            "1831    5           3           0    1           0        0  2017   \n",
            "...   ...         ...         ...  ...         ...      ...   ...   \n",
            "2187   27           2           0   12           0        0  2017   \n",
            "2188   28           3           0   12           0        0  2017   \n",
            "2189   29           4           0   12           0        0  2017   \n",
            "2190   30           5           1   12           0        0  2017   \n",
            "2191   31           6           1   12           0        1  2017   \n",
            "\n",
            "      Inicio_Anio  Fin_Anio  Dia_Anio  Semana_Anio  Festivo  \n",
            "1827            1         0         1           52        1  \n",
            "1828            0         0         2            1        0  \n",
            "1829            0         0         3            1        0  \n",
            "1830            0         0         4            1        0  \n",
            "1831            0         0         5            1        0  \n",
            "...           ...       ...       ...          ...      ...  \n",
            "2187            0         0       361           52        0  \n",
            "2188            0         0       362           52        0  \n",
            "2189            0         0       363           52        0  \n",
            "2190            0         0       364           52        0  \n",
            "2191            0         1       365           52        0  \n",
            "\n",
            "[365 rows x 12 columns]\n"
          ]
        },
        {
          "output_type": "execute_result",
          "data": {
            "text/plain": [
              "1827       0.0\n",
              "1828      45.0\n",
              "1829     116.0\n",
              "1830     232.0\n",
              "1831     455.0\n",
              "         ...  \n",
              "2187    2102.0\n",
              "2188    3449.0\n",
              "2189    1084.0\n",
              "2190      18.0\n",
              "2191       0.0\n",
              "Name: Unidades, Length: 365, dtype: float64"
            ]
          },
          "metadata": {},
          "execution_count": 10
        }
      ]
    },
    {
      "cell_type": "markdown",
      "source": [
        "## Modelo de predicción de número de vehículos registrados utilizando Bosques Aleatorios"
      ],
      "metadata": {
        "id": "Gn-8Ro7vRe80"
      }
    },
    {
      "cell_type": "markdown",
      "source": [
        "El primer modelo a entrenar es el modelo de bosque aleatorio. Se entrena con los datos de entrenamiento y luego se hacen predicciones del training y validación para verificar la variación de R^2 entre entrenamiento y validación."
      ],
      "metadata": {
        "id": "8iXdQRQebrhu"
      }
    },
    {
      "cell_type": "code",
      "source": [
        "#defining the RandomForestRegressor\n",
        "RF_model=RandomForestRegressor()\n",
        " \n",
        "RF_model.fit(training,training_target)\n",
        "#testing\n",
        "y_predicted_rf = RF_model.predict(training)\n",
        "r2_training_rf = r2_score(training_target, y_predicted_rf)\n",
        "r2_training_rf"
      ],
      "metadata": {
        "id": "B8TeQSxJNkCr",
        "colab": {
          "base_uri": "https://localhost:8080/"
        },
        "outputId": "fb86eb5d-3496-4258-a519-865a150ea2a6"
      },
      "execution_count": null,
      "outputs": [
        {
          "output_type": "execute_result",
          "data": {
            "text/plain": [
              "0.9890929484605975"
            ]
          },
          "metadata": {},
          "execution_count": 12
        }
      ]
    },
    {
      "cell_type": "code",
      "source": [
        "y_validation_rf = RF_model.predict(validation)\n",
        "r2_validation_rf = r2_score(validation_target, y_validation_rf)\n",
        "r2_validation_rf"
      ],
      "metadata": {
        "colab": {
          "base_uri": "https://localhost:8080/"
        },
        "id": "ZDTuXKBg9AX5",
        "outputId": "03a67c92-a96a-4b2f-fbef-89bd50666e53"
      },
      "execution_count": null,
      "outputs": [
        {
          "output_type": "execute_result",
          "data": {
            "text/plain": [
              "0.8752286723207751"
            ]
          },
          "metadata": {},
          "execution_count": 13
        }
      ]
    },
    {
      "cell_type": "code",
      "source": [
        "r2_training_rf - r2_validation_rf"
      ],
      "metadata": {
        "colab": {
          "base_uri": "https://localhost:8080/"
        },
        "id": "2RDfhL6o9R8f",
        "outputId": "423fdf62-2093-4184-8dbd-42270fbb25e6"
      },
      "execution_count": null,
      "outputs": [
        {
          "output_type": "execute_result",
          "data": {
            "text/plain": [
              "0.11386427613982242"
            ]
          },
          "metadata": {},
          "execution_count": 14
        }
      ]
    },
    {
      "cell_type": "markdown",
      "source": [
        "Por último, se predicen las posibles unidades de vehículos registrados para el primer semestre del 2018."
      ],
      "metadata": {
        "id": "ai94zltocQsJ"
      }
    },
    {
      "cell_type": "code",
      "source": [
        "y_predicted_2018_rf = RF_model.predict(predict_2018)\n",
        "df_2018['Prediccion_RF'] = y_predicted_2018_rf\n",
        "df_2018"
      ],
      "metadata": {
        "colab": {
          "base_uri": "https://localhost:8080/"
        },
        "id": "r2zMBzP0Xt1y",
        "outputId": "c2b7b02f-1462-4f5a-fff3-b83dcdc91bd4"
      },
      "execution_count": null,
      "outputs": [
        {
          "output_type": "execute_result",
          "data": {
            "text/plain": [
              "         Fecha  Dia  Dia_Semana  Fin_Semana  Mes  Inicio_Mes  Fin_Mes  Anio  \\\n",
              "0   2018-01-01    1           0           0    1           1        0  2018   \n",
              "1   2018-01-02    2           1           0    1           0        0  2018   \n",
              "2   2018-01-03    3           2           0    1           0        0  2018   \n",
              "3   2018-01-04    4           3           0    1           0        0  2018   \n",
              "4   2018-01-05    5           4           0    1           0        0  2018   \n",
              "..         ...  ...         ...         ...  ...         ...      ...   ...   \n",
              "176 2018-06-26   26           1           0    6           0        0  2018   \n",
              "177 2018-06-27   27           2           0    6           0        0  2018   \n",
              "178 2018-06-28   28           3           0    6           0        0  2018   \n",
              "179 2018-06-29   29           4           0    6           0        0  2018   \n",
              "180 2018-06-30   30           5           1    6           0        1  2018   \n",
              "\n",
              "     Inicio_Anio  Fin_Anio  Dia_Anio  Semana_Anio  Festivo  Prediccion_RF  \n",
              "0              1         0         1            1        1           0.28  \n",
              "1              0         0         2            1        0         360.45  \n",
              "2              0         0         3            1        0         449.66  \n",
              "3              0         0         4            1        0         476.88  \n",
              "4              0         0         5            1        0         487.67  \n",
              "..           ...       ...       ...          ...      ...            ...  \n",
              "176            0         0       177           26        0         979.20  \n",
              "177            0         0       178           26        0        1197.89  \n",
              "178            0         0       179           26        0        1355.72  \n",
              "179            0         0       180           26        0        1641.88  \n",
              "180            0         0       181           26        0         835.58  \n",
              "\n",
              "[181 rows x 14 columns]"
            ],
            "text/html": [
              "\n",
              "  <div id=\"df-c9384baf-0ae6-4558-8413-7a78013e37e4\">\n",
              "    <div class=\"colab-df-container\">\n",
              "      <div>\n",
              "<style scoped>\n",
              "    .dataframe tbody tr th:only-of-type {\n",
              "        vertical-align: middle;\n",
              "    }\n",
              "\n",
              "    .dataframe tbody tr th {\n",
              "        vertical-align: top;\n",
              "    }\n",
              "\n",
              "    .dataframe thead th {\n",
              "        text-align: right;\n",
              "    }\n",
              "</style>\n",
              "<table border=\"1\" class=\"dataframe\">\n",
              "  <thead>\n",
              "    <tr style=\"text-align: right;\">\n",
              "      <th></th>\n",
              "      <th>Fecha</th>\n",
              "      <th>Dia</th>\n",
              "      <th>Dia_Semana</th>\n",
              "      <th>Fin_Semana</th>\n",
              "      <th>Mes</th>\n",
              "      <th>Inicio_Mes</th>\n",
              "      <th>Fin_Mes</th>\n",
              "      <th>Anio</th>\n",
              "      <th>Inicio_Anio</th>\n",
              "      <th>Fin_Anio</th>\n",
              "      <th>Dia_Anio</th>\n",
              "      <th>Semana_Anio</th>\n",
              "      <th>Festivo</th>\n",
              "      <th>Prediccion_RF</th>\n",
              "    </tr>\n",
              "  </thead>\n",
              "  <tbody>\n",
              "    <tr>\n",
              "      <th>0</th>\n",
              "      <td>2018-01-01</td>\n",
              "      <td>1</td>\n",
              "      <td>0</td>\n",
              "      <td>0</td>\n",
              "      <td>1</td>\n",
              "      <td>1</td>\n",
              "      <td>0</td>\n",
              "      <td>2018</td>\n",
              "      <td>1</td>\n",
              "      <td>0</td>\n",
              "      <td>1</td>\n",
              "      <td>1</td>\n",
              "      <td>1</td>\n",
              "      <td>0.28</td>\n",
              "    </tr>\n",
              "    <tr>\n",
              "      <th>1</th>\n",
              "      <td>2018-01-02</td>\n",
              "      <td>2</td>\n",
              "      <td>1</td>\n",
              "      <td>0</td>\n",
              "      <td>1</td>\n",
              "      <td>0</td>\n",
              "      <td>0</td>\n",
              "      <td>2018</td>\n",
              "      <td>0</td>\n",
              "      <td>0</td>\n",
              "      <td>2</td>\n",
              "      <td>1</td>\n",
              "      <td>0</td>\n",
              "      <td>360.45</td>\n",
              "    </tr>\n",
              "    <tr>\n",
              "      <th>2</th>\n",
              "      <td>2018-01-03</td>\n",
              "      <td>3</td>\n",
              "      <td>2</td>\n",
              "      <td>0</td>\n",
              "      <td>1</td>\n",
              "      <td>0</td>\n",
              "      <td>0</td>\n",
              "      <td>2018</td>\n",
              "      <td>0</td>\n",
              "      <td>0</td>\n",
              "      <td>3</td>\n",
              "      <td>1</td>\n",
              "      <td>0</td>\n",
              "      <td>449.66</td>\n",
              "    </tr>\n",
              "    <tr>\n",
              "      <th>3</th>\n",
              "      <td>2018-01-04</td>\n",
              "      <td>4</td>\n",
              "      <td>3</td>\n",
              "      <td>0</td>\n",
              "      <td>1</td>\n",
              "      <td>0</td>\n",
              "      <td>0</td>\n",
              "      <td>2018</td>\n",
              "      <td>0</td>\n",
              "      <td>0</td>\n",
              "      <td>4</td>\n",
              "      <td>1</td>\n",
              "      <td>0</td>\n",
              "      <td>476.88</td>\n",
              "    </tr>\n",
              "    <tr>\n",
              "      <th>4</th>\n",
              "      <td>2018-01-05</td>\n",
              "      <td>5</td>\n",
              "      <td>4</td>\n",
              "      <td>0</td>\n",
              "      <td>1</td>\n",
              "      <td>0</td>\n",
              "      <td>0</td>\n",
              "      <td>2018</td>\n",
              "      <td>0</td>\n",
              "      <td>0</td>\n",
              "      <td>5</td>\n",
              "      <td>1</td>\n",
              "      <td>0</td>\n",
              "      <td>487.67</td>\n",
              "    </tr>\n",
              "    <tr>\n",
              "      <th>...</th>\n",
              "      <td>...</td>\n",
              "      <td>...</td>\n",
              "      <td>...</td>\n",
              "      <td>...</td>\n",
              "      <td>...</td>\n",
              "      <td>...</td>\n",
              "      <td>...</td>\n",
              "      <td>...</td>\n",
              "      <td>...</td>\n",
              "      <td>...</td>\n",
              "      <td>...</td>\n",
              "      <td>...</td>\n",
              "      <td>...</td>\n",
              "      <td>...</td>\n",
              "    </tr>\n",
              "    <tr>\n",
              "      <th>176</th>\n",
              "      <td>2018-06-26</td>\n",
              "      <td>26</td>\n",
              "      <td>1</td>\n",
              "      <td>0</td>\n",
              "      <td>6</td>\n",
              "      <td>0</td>\n",
              "      <td>0</td>\n",
              "      <td>2018</td>\n",
              "      <td>0</td>\n",
              "      <td>0</td>\n",
              "      <td>177</td>\n",
              "      <td>26</td>\n",
              "      <td>0</td>\n",
              "      <td>979.20</td>\n",
              "    </tr>\n",
              "    <tr>\n",
              "      <th>177</th>\n",
              "      <td>2018-06-27</td>\n",
              "      <td>27</td>\n",
              "      <td>2</td>\n",
              "      <td>0</td>\n",
              "      <td>6</td>\n",
              "      <td>0</td>\n",
              "      <td>0</td>\n",
              "      <td>2018</td>\n",
              "      <td>0</td>\n",
              "      <td>0</td>\n",
              "      <td>178</td>\n",
              "      <td>26</td>\n",
              "      <td>0</td>\n",
              "      <td>1197.89</td>\n",
              "    </tr>\n",
              "    <tr>\n",
              "      <th>178</th>\n",
              "      <td>2018-06-28</td>\n",
              "      <td>28</td>\n",
              "      <td>3</td>\n",
              "      <td>0</td>\n",
              "      <td>6</td>\n",
              "      <td>0</td>\n",
              "      <td>0</td>\n",
              "      <td>2018</td>\n",
              "      <td>0</td>\n",
              "      <td>0</td>\n",
              "      <td>179</td>\n",
              "      <td>26</td>\n",
              "      <td>0</td>\n",
              "      <td>1355.72</td>\n",
              "    </tr>\n",
              "    <tr>\n",
              "      <th>179</th>\n",
              "      <td>2018-06-29</td>\n",
              "      <td>29</td>\n",
              "      <td>4</td>\n",
              "      <td>0</td>\n",
              "      <td>6</td>\n",
              "      <td>0</td>\n",
              "      <td>0</td>\n",
              "      <td>2018</td>\n",
              "      <td>0</td>\n",
              "      <td>0</td>\n",
              "      <td>180</td>\n",
              "      <td>26</td>\n",
              "      <td>0</td>\n",
              "      <td>1641.88</td>\n",
              "    </tr>\n",
              "    <tr>\n",
              "      <th>180</th>\n",
              "      <td>2018-06-30</td>\n",
              "      <td>30</td>\n",
              "      <td>5</td>\n",
              "      <td>1</td>\n",
              "      <td>6</td>\n",
              "      <td>0</td>\n",
              "      <td>1</td>\n",
              "      <td>2018</td>\n",
              "      <td>0</td>\n",
              "      <td>0</td>\n",
              "      <td>181</td>\n",
              "      <td>26</td>\n",
              "      <td>0</td>\n",
              "      <td>835.58</td>\n",
              "    </tr>\n",
              "  </tbody>\n",
              "</table>\n",
              "<p>181 rows × 14 columns</p>\n",
              "</div>\n",
              "      <button class=\"colab-df-convert\" onclick=\"convertToInteractive('df-c9384baf-0ae6-4558-8413-7a78013e37e4')\"\n",
              "              title=\"Convert this dataframe to an interactive table.\"\n",
              "              style=\"display:none;\">\n",
              "        \n",
              "  <svg xmlns=\"http://www.w3.org/2000/svg\" height=\"24px\"viewBox=\"0 0 24 24\"\n",
              "       width=\"24px\">\n",
              "    <path d=\"M0 0h24v24H0V0z\" fill=\"none\"/>\n",
              "    <path d=\"M18.56 5.44l.94 2.06.94-2.06 2.06-.94-2.06-.94-.94-2.06-.94 2.06-2.06.94zm-11 1L8.5 8.5l.94-2.06 2.06-.94-2.06-.94L8.5 2.5l-.94 2.06-2.06.94zm10 10l.94 2.06.94-2.06 2.06-.94-2.06-.94-.94-2.06-.94 2.06-2.06.94z\"/><path d=\"M17.41 7.96l-1.37-1.37c-.4-.4-.92-.59-1.43-.59-.52 0-1.04.2-1.43.59L10.3 9.45l-7.72 7.72c-.78.78-.78 2.05 0 2.83L4 21.41c.39.39.9.59 1.41.59.51 0 1.02-.2 1.41-.59l7.78-7.78 2.81-2.81c.8-.78.8-2.07 0-2.86zM5.41 20L4 18.59l7.72-7.72 1.47 1.35L5.41 20z\"/>\n",
              "  </svg>\n",
              "      </button>\n",
              "      \n",
              "  <style>\n",
              "    .colab-df-container {\n",
              "      display:flex;\n",
              "      flex-wrap:wrap;\n",
              "      gap: 12px;\n",
              "    }\n",
              "\n",
              "    .colab-df-convert {\n",
              "      background-color: #E8F0FE;\n",
              "      border: none;\n",
              "      border-radius: 50%;\n",
              "      cursor: pointer;\n",
              "      display: none;\n",
              "      fill: #1967D2;\n",
              "      height: 32px;\n",
              "      padding: 0 0 0 0;\n",
              "      width: 32px;\n",
              "    }\n",
              "\n",
              "    .colab-df-convert:hover {\n",
              "      background-color: #E2EBFA;\n",
              "      box-shadow: 0px 1px 2px rgba(60, 64, 67, 0.3), 0px 1px 3px 1px rgba(60, 64, 67, 0.15);\n",
              "      fill: #174EA6;\n",
              "    }\n",
              "\n",
              "    [theme=dark] .colab-df-convert {\n",
              "      background-color: #3B4455;\n",
              "      fill: #D2E3FC;\n",
              "    }\n",
              "\n",
              "    [theme=dark] .colab-df-convert:hover {\n",
              "      background-color: #434B5C;\n",
              "      box-shadow: 0px 1px 3px 1px rgba(0, 0, 0, 0.15);\n",
              "      filter: drop-shadow(0px 1px 2px rgba(0, 0, 0, 0.3));\n",
              "      fill: #FFFFFF;\n",
              "    }\n",
              "  </style>\n",
              "\n",
              "      <script>\n",
              "        const buttonEl =\n",
              "          document.querySelector('#df-c9384baf-0ae6-4558-8413-7a78013e37e4 button.colab-df-convert');\n",
              "        buttonEl.style.display =\n",
              "          google.colab.kernel.accessAllowed ? 'block' : 'none';\n",
              "\n",
              "        async function convertToInteractive(key) {\n",
              "          const element = document.querySelector('#df-c9384baf-0ae6-4558-8413-7a78013e37e4');\n",
              "          const dataTable =\n",
              "            await google.colab.kernel.invokeFunction('convertToInteractive',\n",
              "                                                     [key], {});\n",
              "          if (!dataTable) return;\n",
              "\n",
              "          const docLinkHtml = 'Like what you see? Visit the ' +\n",
              "            '<a target=\"_blank\" href=https://colab.research.google.com/notebooks/data_table.ipynb>data table notebook</a>'\n",
              "            + ' to learn more about interactive tables.';\n",
              "          element.innerHTML = '';\n",
              "          dataTable['output_type'] = 'display_data';\n",
              "          await google.colab.output.renderOutput(dataTable, element);\n",
              "          const docLink = document.createElement('div');\n",
              "          docLink.innerHTML = docLinkHtml;\n",
              "          element.appendChild(docLink);\n",
              "        }\n",
              "      </script>\n",
              "    </div>\n",
              "  </div>\n",
              "  "
            ]
          },
          "metadata": {},
          "execution_count": 15
        }
      ]
    },
    {
      "cell_type": "markdown",
      "source": [
        "## Modelo de predicción de número de vehículos registrados utilizando Regresión Lineal"
      ],
      "metadata": {
        "id": "WMcIdjAzRq59"
      }
    },
    {
      "cell_type": "markdown",
      "source": [
        "Ahora, se entrena un modelo de regresión lineal y se valida para después realizar las predicciones."
      ],
      "metadata": {
        "id": "x3Eg3B_YdJV2"
      }
    },
    {
      "cell_type": "code",
      "source": [
        "regr_model = linear_model.LinearRegression()\n",
        "regr_model.fit(training, training_target)\n",
        "y_predicted_r = regr_model.predict(training)\n",
        "r2_training_r = r2_score(training_target, y_predicted_r)\n",
        "r2_training_r"
      ],
      "metadata": {
        "colab": {
          "base_uri": "https://localhost:8080/"
        },
        "id": "xpJ2I_bjStdK",
        "outputId": "1b6feaf8-17eb-4d79-b9f5-80c3b646c720"
      },
      "execution_count": null,
      "outputs": [
        {
          "output_type": "execute_result",
          "data": {
            "text/plain": [
              "0.7709862368166167"
            ]
          },
          "metadata": {},
          "execution_count": 28
        }
      ]
    },
    {
      "cell_type": "code",
      "source": [
        "y_validation_r = regr_model.predict(validation)\n",
        "r2_validation_r = r2_score(validation_target, y_validation_r)\n",
        "r2_validation_r"
      ],
      "metadata": {
        "colab": {
          "base_uri": "https://localhost:8080/"
        },
        "id": "8njEw9udTR2K",
        "outputId": "cda731a8-b8b9-4de1-b6a3-45aa9bcf1d54"
      },
      "execution_count": null,
      "outputs": [
        {
          "output_type": "execute_result",
          "data": {
            "text/plain": [
              "0.6674124606670422"
            ]
          },
          "metadata": {},
          "execution_count": 29
        }
      ]
    },
    {
      "cell_type": "code",
      "source": [
        "r2_training_r - r2_validation_r"
      ],
      "metadata": {
        "colab": {
          "base_uri": "https://localhost:8080/"
        },
        "id": "F1oq48B_-O2I",
        "outputId": "bafe4166-a1c4-4f04-a59a-642da0e06a01"
      },
      "execution_count": null,
      "outputs": [
        {
          "output_type": "execute_result",
          "data": {
            "text/plain": [
              "0.10357377614957453"
            ]
          },
          "metadata": {},
          "execution_count": 30
        }
      ]
    },
    {
      "cell_type": "markdown",
      "source": [
        "Por útlimo, se predicen las unidades de vehículos registrados para el 2018."
      ],
      "metadata": {
        "id": "304nSESPdUcV"
      }
    },
    {
      "cell_type": "code",
      "source": [
        "y_predicted_2018_r = regr_model.predict(predict_2018)\n",
        "df_2018['Prediccion_R'] = y_predicted_2018_r\n",
        "df_2018"
      ],
      "metadata": {
        "colab": {
          "base_uri": "https://localhost:8080/"
        },
        "id": "ocZIBaI3YYZD",
        "outputId": "01994222-40b5-4cc3-ff64-cc66d4432227"
      },
      "execution_count": null,
      "outputs": [
        {
          "output_type": "execute_result",
          "data": {
            "text/plain": [
              "         Fecha  Dia  Dia_Semana  Fin_Semana  Mes  Inicio_Mes  Fin_Mes  Anio  \\\n",
              "0   2018-01-01    1           0           0    1           1        0  2018   \n",
              "1   2018-01-02    2           1           0    1           0        0  2018   \n",
              "2   2018-01-03    3           2           0    1           0        0  2018   \n",
              "3   2018-01-04    4           3           0    1           0        0  2018   \n",
              "4   2018-01-05    5           4           0    1           0        0  2018   \n",
              "..         ...  ...         ...         ...  ...         ...      ...   ...   \n",
              "176 2018-06-26   26           1           0    6           0        0  2018   \n",
              "177 2018-06-27   27           2           0    6           0        0  2018   \n",
              "178 2018-06-28   28           3           0    6           0        0  2018   \n",
              "179 2018-06-29   29           4           0    6           0        0  2018   \n",
              "180 2018-06-30   30           5           1    6           0        1  2018   \n",
              "\n",
              "     Inicio_Anio  Fin_Anio  Dia_Anio  Semana_Anio  Festivo  Prediccion_RF  \\\n",
              "0              1         0         1            1        1           0.39   \n",
              "1              0         0         2            1        0         350.43   \n",
              "2              0         0         3            1        0         429.09   \n",
              "3              0         0         4            1        0         465.65   \n",
              "4              0         0         5            1        0         492.01   \n",
              "..           ...       ...       ...          ...      ...            ...   \n",
              "176            0         0       177           26        0         977.62   \n",
              "177            0         0       178           26        0        1183.14   \n",
              "178            0         0       179           26        0        1348.08   \n",
              "179            0         0       180           26        0        1637.10   \n",
              "180            0         0       181           26        0         844.94   \n",
              "\n",
              "     Prediccion_R  \n",
              "0        5.244800  \n",
              "1      645.534471  \n",
              "2      725.584105  \n",
              "3      805.633738  \n",
              "4      885.683371  \n",
              "..            ...  \n",
              "176   1001.394547  \n",
              "177   1081.444180  \n",
              "178   1161.493813  \n",
              "179   1241.543447  \n",
              "180    460.768034  \n",
              "\n",
              "[181 rows x 15 columns]"
            ],
            "text/html": [
              "\n",
              "  <div id=\"df-ffb4b8ec-a7c6-4ac7-ab97-dc7872ae9285\">\n",
              "    <div class=\"colab-df-container\">\n",
              "      <div>\n",
              "<style scoped>\n",
              "    .dataframe tbody tr th:only-of-type {\n",
              "        vertical-align: middle;\n",
              "    }\n",
              "\n",
              "    .dataframe tbody tr th {\n",
              "        vertical-align: top;\n",
              "    }\n",
              "\n",
              "    .dataframe thead th {\n",
              "        text-align: right;\n",
              "    }\n",
              "</style>\n",
              "<table border=\"1\" class=\"dataframe\">\n",
              "  <thead>\n",
              "    <tr style=\"text-align: right;\">\n",
              "      <th></th>\n",
              "      <th>Fecha</th>\n",
              "      <th>Dia</th>\n",
              "      <th>Dia_Semana</th>\n",
              "      <th>Fin_Semana</th>\n",
              "      <th>Mes</th>\n",
              "      <th>Inicio_Mes</th>\n",
              "      <th>Fin_Mes</th>\n",
              "      <th>Anio</th>\n",
              "      <th>Inicio_Anio</th>\n",
              "      <th>Fin_Anio</th>\n",
              "      <th>Dia_Anio</th>\n",
              "      <th>Semana_Anio</th>\n",
              "      <th>Festivo</th>\n",
              "      <th>Prediccion_RF</th>\n",
              "      <th>Prediccion_R</th>\n",
              "    </tr>\n",
              "  </thead>\n",
              "  <tbody>\n",
              "    <tr>\n",
              "      <th>0</th>\n",
              "      <td>2018-01-01</td>\n",
              "      <td>1</td>\n",
              "      <td>0</td>\n",
              "      <td>0</td>\n",
              "      <td>1</td>\n",
              "      <td>1</td>\n",
              "      <td>0</td>\n",
              "      <td>2018</td>\n",
              "      <td>1</td>\n",
              "      <td>0</td>\n",
              "      <td>1</td>\n",
              "      <td>1</td>\n",
              "      <td>1</td>\n",
              "      <td>0.39</td>\n",
              "      <td>5.244800</td>\n",
              "    </tr>\n",
              "    <tr>\n",
              "      <th>1</th>\n",
              "      <td>2018-01-02</td>\n",
              "      <td>2</td>\n",
              "      <td>1</td>\n",
              "      <td>0</td>\n",
              "      <td>1</td>\n",
              "      <td>0</td>\n",
              "      <td>0</td>\n",
              "      <td>2018</td>\n",
              "      <td>0</td>\n",
              "      <td>0</td>\n",
              "      <td>2</td>\n",
              "      <td>1</td>\n",
              "      <td>0</td>\n",
              "      <td>350.43</td>\n",
              "      <td>645.534471</td>\n",
              "    </tr>\n",
              "    <tr>\n",
              "      <th>2</th>\n",
              "      <td>2018-01-03</td>\n",
              "      <td>3</td>\n",
              "      <td>2</td>\n",
              "      <td>0</td>\n",
              "      <td>1</td>\n",
              "      <td>0</td>\n",
              "      <td>0</td>\n",
              "      <td>2018</td>\n",
              "      <td>0</td>\n",
              "      <td>0</td>\n",
              "      <td>3</td>\n",
              "      <td>1</td>\n",
              "      <td>0</td>\n",
              "      <td>429.09</td>\n",
              "      <td>725.584105</td>\n",
              "    </tr>\n",
              "    <tr>\n",
              "      <th>3</th>\n",
              "      <td>2018-01-04</td>\n",
              "      <td>4</td>\n",
              "      <td>3</td>\n",
              "      <td>0</td>\n",
              "      <td>1</td>\n",
              "      <td>0</td>\n",
              "      <td>0</td>\n",
              "      <td>2018</td>\n",
              "      <td>0</td>\n",
              "      <td>0</td>\n",
              "      <td>4</td>\n",
              "      <td>1</td>\n",
              "      <td>0</td>\n",
              "      <td>465.65</td>\n",
              "      <td>805.633738</td>\n",
              "    </tr>\n",
              "    <tr>\n",
              "      <th>4</th>\n",
              "      <td>2018-01-05</td>\n",
              "      <td>5</td>\n",
              "      <td>4</td>\n",
              "      <td>0</td>\n",
              "      <td>1</td>\n",
              "      <td>0</td>\n",
              "      <td>0</td>\n",
              "      <td>2018</td>\n",
              "      <td>0</td>\n",
              "      <td>0</td>\n",
              "      <td>5</td>\n",
              "      <td>1</td>\n",
              "      <td>0</td>\n",
              "      <td>492.01</td>\n",
              "      <td>885.683371</td>\n",
              "    </tr>\n",
              "    <tr>\n",
              "      <th>...</th>\n",
              "      <td>...</td>\n",
              "      <td>...</td>\n",
              "      <td>...</td>\n",
              "      <td>...</td>\n",
              "      <td>...</td>\n",
              "      <td>...</td>\n",
              "      <td>...</td>\n",
              "      <td>...</td>\n",
              "      <td>...</td>\n",
              "      <td>...</td>\n",
              "      <td>...</td>\n",
              "      <td>...</td>\n",
              "      <td>...</td>\n",
              "      <td>...</td>\n",
              "      <td>...</td>\n",
              "    </tr>\n",
              "    <tr>\n",
              "      <th>176</th>\n",
              "      <td>2018-06-26</td>\n",
              "      <td>26</td>\n",
              "      <td>1</td>\n",
              "      <td>0</td>\n",
              "      <td>6</td>\n",
              "      <td>0</td>\n",
              "      <td>0</td>\n",
              "      <td>2018</td>\n",
              "      <td>0</td>\n",
              "      <td>0</td>\n",
              "      <td>177</td>\n",
              "      <td>26</td>\n",
              "      <td>0</td>\n",
              "      <td>977.62</td>\n",
              "      <td>1001.394547</td>\n",
              "    </tr>\n",
              "    <tr>\n",
              "      <th>177</th>\n",
              "      <td>2018-06-27</td>\n",
              "      <td>27</td>\n",
              "      <td>2</td>\n",
              "      <td>0</td>\n",
              "      <td>6</td>\n",
              "      <td>0</td>\n",
              "      <td>0</td>\n",
              "      <td>2018</td>\n",
              "      <td>0</td>\n",
              "      <td>0</td>\n",
              "      <td>178</td>\n",
              "      <td>26</td>\n",
              "      <td>0</td>\n",
              "      <td>1183.14</td>\n",
              "      <td>1081.444180</td>\n",
              "    </tr>\n",
              "    <tr>\n",
              "      <th>178</th>\n",
              "      <td>2018-06-28</td>\n",
              "      <td>28</td>\n",
              "      <td>3</td>\n",
              "      <td>0</td>\n",
              "      <td>6</td>\n",
              "      <td>0</td>\n",
              "      <td>0</td>\n",
              "      <td>2018</td>\n",
              "      <td>0</td>\n",
              "      <td>0</td>\n",
              "      <td>179</td>\n",
              "      <td>26</td>\n",
              "      <td>0</td>\n",
              "      <td>1348.08</td>\n",
              "      <td>1161.493813</td>\n",
              "    </tr>\n",
              "    <tr>\n",
              "      <th>179</th>\n",
              "      <td>2018-06-29</td>\n",
              "      <td>29</td>\n",
              "      <td>4</td>\n",
              "      <td>0</td>\n",
              "      <td>6</td>\n",
              "      <td>0</td>\n",
              "      <td>0</td>\n",
              "      <td>2018</td>\n",
              "      <td>0</td>\n",
              "      <td>0</td>\n",
              "      <td>180</td>\n",
              "      <td>26</td>\n",
              "      <td>0</td>\n",
              "      <td>1637.10</td>\n",
              "      <td>1241.543447</td>\n",
              "    </tr>\n",
              "    <tr>\n",
              "      <th>180</th>\n",
              "      <td>2018-06-30</td>\n",
              "      <td>30</td>\n",
              "      <td>5</td>\n",
              "      <td>1</td>\n",
              "      <td>6</td>\n",
              "      <td>0</td>\n",
              "      <td>1</td>\n",
              "      <td>2018</td>\n",
              "      <td>0</td>\n",
              "      <td>0</td>\n",
              "      <td>181</td>\n",
              "      <td>26</td>\n",
              "      <td>0</td>\n",
              "      <td>844.94</td>\n",
              "      <td>460.768034</td>\n",
              "    </tr>\n",
              "  </tbody>\n",
              "</table>\n",
              "<p>181 rows × 15 columns</p>\n",
              "</div>\n",
              "      <button class=\"colab-df-convert\" onclick=\"convertToInteractive('df-ffb4b8ec-a7c6-4ac7-ab97-dc7872ae9285')\"\n",
              "              title=\"Convert this dataframe to an interactive table.\"\n",
              "              style=\"display:none;\">\n",
              "        \n",
              "  <svg xmlns=\"http://www.w3.org/2000/svg\" height=\"24px\"viewBox=\"0 0 24 24\"\n",
              "       width=\"24px\">\n",
              "    <path d=\"M0 0h24v24H0V0z\" fill=\"none\"/>\n",
              "    <path d=\"M18.56 5.44l.94 2.06.94-2.06 2.06-.94-2.06-.94-.94-2.06-.94 2.06-2.06.94zm-11 1L8.5 8.5l.94-2.06 2.06-.94-2.06-.94L8.5 2.5l-.94 2.06-2.06.94zm10 10l.94 2.06.94-2.06 2.06-.94-2.06-.94-.94-2.06-.94 2.06-2.06.94z\"/><path d=\"M17.41 7.96l-1.37-1.37c-.4-.4-.92-.59-1.43-.59-.52 0-1.04.2-1.43.59L10.3 9.45l-7.72 7.72c-.78.78-.78 2.05 0 2.83L4 21.41c.39.39.9.59 1.41.59.51 0 1.02-.2 1.41-.59l7.78-7.78 2.81-2.81c.8-.78.8-2.07 0-2.86zM5.41 20L4 18.59l7.72-7.72 1.47 1.35L5.41 20z\"/>\n",
              "  </svg>\n",
              "      </button>\n",
              "      \n",
              "  <style>\n",
              "    .colab-df-container {\n",
              "      display:flex;\n",
              "      flex-wrap:wrap;\n",
              "      gap: 12px;\n",
              "    }\n",
              "\n",
              "    .colab-df-convert {\n",
              "      background-color: #E8F0FE;\n",
              "      border: none;\n",
              "      border-radius: 50%;\n",
              "      cursor: pointer;\n",
              "      display: none;\n",
              "      fill: #1967D2;\n",
              "      height: 32px;\n",
              "      padding: 0 0 0 0;\n",
              "      width: 32px;\n",
              "    }\n",
              "\n",
              "    .colab-df-convert:hover {\n",
              "      background-color: #E2EBFA;\n",
              "      box-shadow: 0px 1px 2px rgba(60, 64, 67, 0.3), 0px 1px 3px 1px rgba(60, 64, 67, 0.15);\n",
              "      fill: #174EA6;\n",
              "    }\n",
              "\n",
              "    [theme=dark] .colab-df-convert {\n",
              "      background-color: #3B4455;\n",
              "      fill: #D2E3FC;\n",
              "    }\n",
              "\n",
              "    [theme=dark] .colab-df-convert:hover {\n",
              "      background-color: #434B5C;\n",
              "      box-shadow: 0px 1px 3px 1px rgba(0, 0, 0, 0.15);\n",
              "      filter: drop-shadow(0px 1px 2px rgba(0, 0, 0, 0.3));\n",
              "      fill: #FFFFFF;\n",
              "    }\n",
              "  </style>\n",
              "\n",
              "      <script>\n",
              "        const buttonEl =\n",
              "          document.querySelector('#df-ffb4b8ec-a7c6-4ac7-ab97-dc7872ae9285 button.colab-df-convert');\n",
              "        buttonEl.style.display =\n",
              "          google.colab.kernel.accessAllowed ? 'block' : 'none';\n",
              "\n",
              "        async function convertToInteractive(key) {\n",
              "          const element = document.querySelector('#df-ffb4b8ec-a7c6-4ac7-ab97-dc7872ae9285');\n",
              "          const dataTable =\n",
              "            await google.colab.kernel.invokeFunction('convertToInteractive',\n",
              "                                                     [key], {});\n",
              "          if (!dataTable) return;\n",
              "\n",
              "          const docLinkHtml = 'Like what you see? Visit the ' +\n",
              "            '<a target=\"_blank\" href=https://colab.research.google.com/notebooks/data_table.ipynb>data table notebook</a>'\n",
              "            + ' to learn more about interactive tables.';\n",
              "          element.innerHTML = '';\n",
              "          dataTable['output_type'] = 'display_data';\n",
              "          await google.colab.output.renderOutput(dataTable, element);\n",
              "          const docLink = document.createElement('div');\n",
              "          docLink.innerHTML = docLinkHtml;\n",
              "          element.appendChild(docLink);\n",
              "        }\n",
              "      </script>\n",
              "    </div>\n",
              "  </div>\n",
              "  "
            ]
          },
          "metadata": {},
          "execution_count": 31
        }
      ]
    },
    {
      "cell_type": "markdown",
      "source": [
        "## Modelo de predicción de número de vehículos registrados utilizando Regresión Lasso"
      ],
      "metadata": {
        "id": "yF7Fh_zKR8RS"
      }
    },
    {
      "cell_type": "markdown",
      "source": [
        "Ahora, se trabaja con el modelo de regresión Lasso. Se entrena y se predicen los valores de entrenamiento y validación."
      ],
      "metadata": {
        "id": "sj0-xDh-drXt"
      }
    },
    {
      "cell_type": "code",
      "source": [
        "lasso = linear_model.Lasso()\n",
        "lasso.fit(training, training_target)\n",
        "y_predicted_lasso = lasso.predict(training)\n",
        "r2_training_lasso = r2_score(training_target, y_predicted_lasso)\n",
        "r2_training_lasso"
      ],
      "metadata": {
        "id": "Qz84si8mV-9I",
        "colab": {
          "base_uri": "https://localhost:8080/"
        },
        "outputId": "19d3ad96-7526-4262-ea75-09d0c2b8890b"
      },
      "execution_count": null,
      "outputs": [
        {
          "output_type": "execute_result",
          "data": {
            "text/plain": [
              "0.765487606434323"
            ]
          },
          "metadata": {},
          "execution_count": 32
        }
      ]
    },
    {
      "cell_type": "code",
      "source": [
        "y_validation_lasso = lasso.predict(validation)\n",
        "r2_validation_lasso = r2_score(validation_target, y_validation_lasso)\n",
        "r2_validation_lasso"
      ],
      "metadata": {
        "colab": {
          "base_uri": "https://localhost:8080/"
        },
        "id": "8PDE7NRXWgDQ",
        "outputId": "ceb21c65-5e90-407c-9608-8bb4ac1e4595"
      },
      "execution_count": null,
      "outputs": [
        {
          "output_type": "execute_result",
          "data": {
            "text/plain": [
              "0.6660571202352827"
            ]
          },
          "metadata": {},
          "execution_count": 33
        }
      ]
    },
    {
      "cell_type": "code",
      "source": [
        "r2_training_lasso - r2_validation_lasso"
      ],
      "metadata": {
        "colab": {
          "base_uri": "https://localhost:8080/"
        },
        "id": "5Wxd36yS-6yV",
        "outputId": "69a072a6-1688-4a72-8ffe-0d171bb3c86a"
      },
      "execution_count": null,
      "outputs": [
        {
          "output_type": "execute_result",
          "data": {
            "text/plain": [
              "0.09943048619904027"
            ]
          },
          "metadata": {},
          "execution_count": 34
        }
      ]
    },
    {
      "cell_type": "markdown",
      "source": [
        "## Modelo de predicción de número de vehículos registrados utilizando Redes Neuronales con Regresión como salida"
      ],
      "metadata": {
        "id": "s83F_qtraM2z"
      }
    },
    {
      "cell_type": "markdown",
      "source": [
        "Seguidamente, se entrena un modelo de redes neuronales con regresión como salida y se valida para después realizar las predicciones."
      ],
      "metadata": {
        "id": "HWcOy8fK4XVY"
      }
    },
    {
      "cell_type": "code",
      "source": [
        "training.shape"
      ],
      "metadata": {
        "colab": {
          "base_uri": "https://localhost:8080/"
        },
        "id": "bUBpytX_cwQM",
        "outputId": "599b1e77-7f4e-4a3f-e1fc-af0eebe6f5e1"
      },
      "execution_count": null,
      "outputs": [
        {
          "output_type": "execute_result",
          "data": {
            "text/plain": [
              "(1827, 12)"
            ]
          },
          "metadata": {},
          "execution_count": 35
        }
      ]
    },
    {
      "cell_type": "code",
      "source": [
        "NN_model = Sequential()\n",
        "\n",
        "# The Input Layer :\n",
        "NN_model.add(Dense(128, kernel_initializer='normal',input_dim = training.shape[1], activation='relu'))\n",
        "\n",
        "# The Hidden Layers :\n",
        "NN_model.add(Dense(256, kernel_initializer='normal',activation='relu'))\n",
        "NN_model.add(Dense(256, kernel_initializer='normal',activation='relu'))\n",
        "NN_model.add(Dense(256, kernel_initializer='normal',activation='relu'))\n",
        "\n",
        "# The Output Layer :\n",
        "NN_model.add(Dense(1, kernel_initializer='normal',activation='linear'))\n",
        "\n",
        "# Compile the network :\n",
        "NN_model.compile(loss='mean_absolute_error', optimizer='adam', metrics=['mean_absolute_error'])\n",
        "NN_model.summary()"
      ],
      "metadata": {
        "colab": {
          "base_uri": "https://localhost:8080/"
        },
        "id": "AAJlu22MaaH6",
        "outputId": "27fff362-bb95-48bb-e45e-9df0f8b24d8b"
      },
      "execution_count": null,
      "outputs": [
        {
          "output_type": "stream",
          "name": "stdout",
          "text": [
            "Model: \"sequential\"\n",
            "_________________________________________________________________\n",
            " Layer (type)                Output Shape              Param #   \n",
            "=================================================================\n",
            " dense (Dense)               (None, 128)               1664      \n",
            "                                                                 \n",
            " dense_1 (Dense)             (None, 256)               33024     \n",
            "                                                                 \n",
            " dense_2 (Dense)             (None, 256)               65792     \n",
            "                                                                 \n",
            " dense_3 (Dense)             (None, 256)               65792     \n",
            "                                                                 \n",
            " dense_4 (Dense)             (None, 1)                 257       \n",
            "                                                                 \n",
            "=================================================================\n",
            "Total params: 166,529\n",
            "Trainable params: 166,529\n",
            "Non-trainable params: 0\n",
            "_________________________________________________________________\n"
          ]
        }
      ]
    },
    {
      "cell_type": "code",
      "source": [
        "checkpoint_name = 'Weights-{epoch:03d}--{val_loss:.5f}.hdf5' \n",
        "checkpoint = ModelCheckpoint(checkpoint_name, monitor='val_loss', verbose = 1, save_best_only = True, mode ='auto')\n",
        "callbacks_list = [checkpoint]"
      ],
      "metadata": {
        "id": "qNJmO0LUd71s"
      },
      "execution_count": null,
      "outputs": []
    },
    {
      "cell_type": "code",
      "source": [
        "# Solo correr una vez\n",
        "NN_model.fit(training, training_target, epochs=45, batch_size=32, validation_split = 0.2, callbacks=callbacks_list)"
      ],
      "metadata": {
        "colab": {
          "base_uri": "https://localhost:8080/"
        },
        "id": "SfNpeEDWeCWr",
        "outputId": "3cdd79c6-3e05-47a2-9ed4-cbc2cf4a12a4"
      },
      "execution_count": null,
      "outputs": [
        {
          "output_type": "stream",
          "name": "stdout",
          "text": [
            "Epoch 1/45\n",
            "46/46 [==============================] - ETA: 0s - loss: 546.3417 - mean_absolute_error: 546.3417\n",
            "Epoch 1: val_loss improved from inf to 405.08359, saving model to Weights-001--405.08359.hdf5\n",
            "46/46 [==============================] - 2s 20ms/step - loss: 546.3417 - mean_absolute_error: 546.3417 - val_loss: 405.0836 - val_mean_absolute_error: 405.0836\n",
            "Epoch 2/45\n",
            "45/46 [============================>.] - ETA: 0s - loss: 463.4949 - mean_absolute_error: 463.4949\n",
            "Epoch 2: val_loss improved from 405.08359 to 401.44479, saving model to Weights-002--401.44479.hdf5\n",
            "46/46 [==============================] - 1s 13ms/step - loss: 464.6134 - mean_absolute_error: 464.6134 - val_loss: 401.4448 - val_mean_absolute_error: 401.4448\n",
            "Epoch 3/45\n",
            "46/46 [==============================] - ETA: 0s - loss: 466.2795 - mean_absolute_error: 466.2795\n",
            "Epoch 3: val_loss improved from 401.44479 to 401.23053, saving model to Weights-003--401.23053.hdf5\n",
            "46/46 [==============================] - 1s 11ms/step - loss: 466.2795 - mean_absolute_error: 466.2795 - val_loss: 401.2305 - val_mean_absolute_error: 401.2305\n",
            "Epoch 4/45\n",
            "46/46 [==============================] - ETA: 0s - loss: 463.4076 - mean_absolute_error: 463.4076\n",
            "Epoch 4: val_loss did not improve from 401.23053\n",
            "46/46 [==============================] - 0s 9ms/step - loss: 463.4076 - mean_absolute_error: 463.4076 - val_loss: 467.2352 - val_mean_absolute_error: 467.2352\n",
            "Epoch 5/45\n",
            "45/46 [============================>.] - ETA: 0s - loss: 458.7362 - mean_absolute_error: 458.7362\n",
            "Epoch 5: val_loss did not improve from 401.23053\n",
            "46/46 [==============================] - 1s 14ms/step - loss: 460.1094 - mean_absolute_error: 460.1094 - val_loss: 551.1672 - val_mean_absolute_error: 551.1672\n",
            "Epoch 6/45\n",
            "44/46 [===========================>..] - ETA: 0s - loss: 461.0030 - mean_absolute_error: 461.0030\n",
            "Epoch 6: val_loss did not improve from 401.23053\n",
            "46/46 [==============================] - 0s 11ms/step - loss: 460.8068 - mean_absolute_error: 460.8068 - val_loss: 459.2268 - val_mean_absolute_error: 459.2268\n",
            "Epoch 7/45\n",
            "39/46 [========================>.....] - ETA: 0s - loss: 454.1297 - mean_absolute_error: 454.1297\n",
            "Epoch 7: val_loss did not improve from 401.23053\n",
            "46/46 [==============================] - 0s 9ms/step - loss: 456.3593 - mean_absolute_error: 456.3593 - val_loss: 423.6243 - val_mean_absolute_error: 423.6243\n",
            "Epoch 8/45\n",
            "45/46 [============================>.] - ETA: 0s - loss: 453.2054 - mean_absolute_error: 453.2054\n",
            "Epoch 8: val_loss did not improve from 401.23053\n",
            "46/46 [==============================] - 0s 9ms/step - loss: 454.6367 - mean_absolute_error: 454.6367 - val_loss: 542.3815 - val_mean_absolute_error: 542.3815\n",
            "Epoch 9/45\n",
            "40/46 [=========================>....] - ETA: 0s - loss: 467.2981 - mean_absolute_error: 467.2981\n",
            "Epoch 9: val_loss did not improve from 401.23053\n",
            "46/46 [==============================] - 0s 9ms/step - loss: 464.6108 - mean_absolute_error: 464.6108 - val_loss: 421.6869 - val_mean_absolute_error: 421.6869\n",
            "Epoch 10/45\n",
            "46/46 [==============================] - ETA: 0s - loss: 457.2148 - mean_absolute_error: 457.2148\n",
            "Epoch 10: val_loss did not improve from 401.23053\n",
            "46/46 [==============================] - 0s 9ms/step - loss: 457.2148 - mean_absolute_error: 457.2148 - val_loss: 458.7303 - val_mean_absolute_error: 458.7303\n",
            "Epoch 11/45\n",
            "41/46 [=========================>....] - ETA: 0s - loss: 452.4507 - mean_absolute_error: 452.4507\n",
            "Epoch 11: val_loss improved from 401.23053 to 397.93643, saving model to Weights-011--397.93643.hdf5\n",
            "46/46 [==============================] - 0s 11ms/step - loss: 451.1635 - mean_absolute_error: 451.1635 - val_loss: 397.9364 - val_mean_absolute_error: 397.9364\n",
            "Epoch 12/45\n",
            "42/46 [==========================>...] - ETA: 0s - loss: 453.8396 - mean_absolute_error: 453.8396\n",
            "Epoch 12: val_loss improved from 397.93643 to 396.88242, saving model to Weights-012--396.88242.hdf5\n",
            "46/46 [==============================] - 0s 9ms/step - loss: 454.1330 - mean_absolute_error: 454.1330 - val_loss: 396.8824 - val_mean_absolute_error: 396.8824\n",
            "Epoch 13/45\n",
            "40/46 [=========================>....] - ETA: 0s - loss: 457.7343 - mean_absolute_error: 457.7343\n",
            "Epoch 13: val_loss did not improve from 396.88242\n",
            "46/46 [==============================] - 0s 8ms/step - loss: 454.4670 - mean_absolute_error: 454.4670 - val_loss: 448.9176 - val_mean_absolute_error: 448.9176\n",
            "Epoch 14/45\n",
            "42/46 [==========================>...] - ETA: 0s - loss: 463.2450 - mean_absolute_error: 463.2450\n",
            "Epoch 14: val_loss improved from 396.88242 to 393.76971, saving model to Weights-014--393.76971.hdf5\n",
            "46/46 [==============================] - 0s 10ms/step - loss: 465.4502 - mean_absolute_error: 465.4502 - val_loss: 393.7697 - val_mean_absolute_error: 393.7697\n",
            "Epoch 15/45\n",
            "39/46 [========================>.....] - ETA: 0s - loss: 472.6901 - mean_absolute_error: 472.6901\n",
            "Epoch 15: val_loss did not improve from 393.76971\n",
            "46/46 [==============================] - 0s 9ms/step - loss: 474.4672 - mean_absolute_error: 474.4672 - val_loss: 467.3079 - val_mean_absolute_error: 467.3079\n",
            "Epoch 16/45\n",
            "45/46 [============================>.] - ETA: 0s - loss: 451.1773 - mean_absolute_error: 451.1773\n",
            "Epoch 16: val_loss did not improve from 393.76971\n",
            "46/46 [==============================] - 1s 11ms/step - loss: 450.6225 - mean_absolute_error: 450.6225 - val_loss: 473.5726 - val_mean_absolute_error: 473.5726\n",
            "Epoch 17/45\n",
            "46/46 [==============================] - ETA: 0s - loss: 451.4983 - mean_absolute_error: 451.4983\n",
            "Epoch 17: val_loss did not improve from 393.76971\n",
            "46/46 [==============================] - 0s 10ms/step - loss: 451.4983 - mean_absolute_error: 451.4983 - val_loss: 524.5987 - val_mean_absolute_error: 524.5987\n",
            "Epoch 18/45\n",
            "46/46 [==============================] - ETA: 0s - loss: 453.0718 - mean_absolute_error: 453.0718\n",
            "Epoch 18: val_loss did not improve from 393.76971\n",
            "46/46 [==============================] - 0s 11ms/step - loss: 453.0718 - mean_absolute_error: 453.0718 - val_loss: 438.1943 - val_mean_absolute_error: 438.1943\n",
            "Epoch 19/45\n",
            "46/46 [==============================] - ETA: 0s - loss: 446.3939 - mean_absolute_error: 446.3939\n",
            "Epoch 19: val_loss improved from 393.76971 to 384.42667, saving model to Weights-019--384.42667.hdf5\n",
            "46/46 [==============================] - 1s 14ms/step - loss: 446.3939 - mean_absolute_error: 446.3939 - val_loss: 384.4267 - val_mean_absolute_error: 384.4267\n",
            "Epoch 20/45\n",
            "46/46 [==============================] - ETA: 0s - loss: 460.6552 - mean_absolute_error: 460.6552\n",
            "Epoch 20: val_loss did not improve from 384.42667\n",
            "46/46 [==============================] - 1s 11ms/step - loss: 460.6552 - mean_absolute_error: 460.6552 - val_loss: 442.6884 - val_mean_absolute_error: 442.6884\n",
            "Epoch 21/45\n",
            "46/46 [==============================] - ETA: 0s - loss: 449.6986 - mean_absolute_error: 449.6986\n",
            "Epoch 21: val_loss did not improve from 384.42667\n",
            "46/46 [==============================] - 0s 8ms/step - loss: 449.6986 - mean_absolute_error: 449.6986 - val_loss: 487.3344 - val_mean_absolute_error: 487.3344\n",
            "Epoch 22/45\n",
            "44/46 [===========================>..] - ETA: 0s - loss: 443.4993 - mean_absolute_error: 443.4993\n",
            "Epoch 22: val_loss improved from 384.42667 to 382.82745, saving model to Weights-022--382.82745.hdf5\n",
            "46/46 [==============================] - 0s 9ms/step - loss: 441.5784 - mean_absolute_error: 441.5784 - val_loss: 382.8275 - val_mean_absolute_error: 382.8275\n",
            "Epoch 23/45\n",
            "38/46 [=======================>......] - ETA: 0s - loss: 434.1736 - mean_absolute_error: 434.1736\n",
            "Epoch 23: val_loss did not improve from 382.82745\n",
            "46/46 [==============================] - 0s 5ms/step - loss: 432.9485 - mean_absolute_error: 432.9485 - val_loss: 413.7015 - val_mean_absolute_error: 413.7015\n",
            "Epoch 24/45\n",
            "41/46 [=========================>....] - ETA: 0s - loss: 424.9659 - mean_absolute_error: 424.9659\n",
            "Epoch 24: val_loss did not improve from 382.82745\n",
            "46/46 [==============================] - 0s 5ms/step - loss: 429.9373 - mean_absolute_error: 429.9373 - val_loss: 418.9647 - val_mean_absolute_error: 418.9647\n",
            "Epoch 25/45\n",
            "37/46 [=======================>......] - ETA: 0s - loss: 431.3157 - mean_absolute_error: 431.3157\n",
            "Epoch 25: val_loss improved from 382.82745 to 367.62177, saving model to Weights-025--367.62177.hdf5\n",
            "46/46 [==============================] - 0s 6ms/step - loss: 421.8741 - mean_absolute_error: 421.8741 - val_loss: 367.6218 - val_mean_absolute_error: 367.6218\n",
            "Epoch 26/45\n",
            "38/46 [=======================>......] - ETA: 0s - loss: 399.5968 - mean_absolute_error: 399.5968\n",
            "Epoch 26: val_loss did not improve from 367.62177\n",
            "46/46 [==============================] - 0s 5ms/step - loss: 399.9077 - mean_absolute_error: 399.9077 - val_loss: 396.4143 - val_mean_absolute_error: 396.4143\n",
            "Epoch 27/45\n",
            "36/46 [======================>.......] - ETA: 0s - loss: 391.1156 - mean_absolute_error: 391.1156\n",
            "Epoch 27: val_loss improved from 367.62177 to 329.79291, saving model to Weights-027--329.79291.hdf5\n",
            "46/46 [==============================] - 0s 6ms/step - loss: 390.6576 - mean_absolute_error: 390.6576 - val_loss: 329.7929 - val_mean_absolute_error: 329.7929\n",
            "Epoch 28/45\n",
            "40/46 [=========================>....] - ETA: 0s - loss: 355.8970 - mean_absolute_error: 355.8970\n",
            "Epoch 28: val_loss did not improve from 329.79291\n",
            "46/46 [==============================] - 0s 5ms/step - loss: 358.5495 - mean_absolute_error: 358.5495 - val_loss: 378.3385 - val_mean_absolute_error: 378.3385\n",
            "Epoch 29/45\n",
            "35/46 [=====================>........] - ETA: 0s - loss: 352.9742 - mean_absolute_error: 352.9742\n",
            "Epoch 29: val_loss improved from 329.79291 to 286.13510, saving model to Weights-029--286.13510.hdf5\n",
            "46/46 [==============================] - 0s 6ms/step - loss: 345.7592 - mean_absolute_error: 345.7592 - val_loss: 286.1351 - val_mean_absolute_error: 286.1351\n",
            "Epoch 30/45\n",
            "37/46 [=======================>......] - ETA: 0s - loss: 331.6084 - mean_absolute_error: 331.6084\n",
            "Epoch 30: val_loss did not improve from 286.13510\n",
            "46/46 [==============================] - 0s 6ms/step - loss: 331.2693 - mean_absolute_error: 331.2693 - val_loss: 331.5172 - val_mean_absolute_error: 331.5172\n",
            "Epoch 31/45\n",
            "36/46 [======================>.......] - ETA: 0s - loss: 306.8300 - mean_absolute_error: 306.8300\n",
            "Epoch 31: val_loss improved from 286.13510 to 277.29095, saving model to Weights-031--277.29095.hdf5\n",
            "46/46 [==============================] - 0s 6ms/step - loss: 297.6129 - mean_absolute_error: 297.6129 - val_loss: 277.2910 - val_mean_absolute_error: 277.2910\n",
            "Epoch 32/45\n",
            "37/46 [=======================>......] - ETA: 0s - loss: 283.7740 - mean_absolute_error: 283.7740\n",
            "Epoch 32: val_loss improved from 277.29095 to 273.82578, saving model to Weights-032--273.82578.hdf5\n",
            "46/46 [==============================] - 0s 6ms/step - loss: 276.9188 - mean_absolute_error: 276.9188 - val_loss: 273.8258 - val_mean_absolute_error: 273.8258\n",
            "Epoch 33/45\n",
            "35/46 [=====================>........] - ETA: 0s - loss: 222.7996 - mean_absolute_error: 222.7996\n",
            "Epoch 33: val_loss did not improve from 273.82578\n",
            "46/46 [==============================] - 0s 5ms/step - loss: 221.2101 - mean_absolute_error: 221.2101 - val_loss: 309.8608 - val_mean_absolute_error: 309.8608\n",
            "Epoch 34/45\n",
            "39/46 [========================>.....] - ETA: 0s - loss: 222.1855 - mean_absolute_error: 222.1855\n",
            "Epoch 34: val_loss improved from 273.82578 to 251.49878, saving model to Weights-034--251.49878.hdf5\n",
            "46/46 [==============================] - 0s 6ms/step - loss: 216.1194 - mean_absolute_error: 216.1194 - val_loss: 251.4988 - val_mean_absolute_error: 251.4988\n",
            "Epoch 35/45\n",
            "38/46 [=======================>......] - ETA: 0s - loss: 207.6876 - mean_absolute_error: 207.6876\n",
            "Epoch 35: val_loss did not improve from 251.49878\n",
            "46/46 [==============================] - 0s 5ms/step - loss: 211.4101 - mean_absolute_error: 211.4101 - val_loss: 283.1015 - val_mean_absolute_error: 283.1015\n",
            "Epoch 36/45\n",
            "36/46 [======================>.......] - ETA: 0s - loss: 219.6989 - mean_absolute_error: 219.6989\n",
            "Epoch 36: val_loss did not improve from 251.49878\n",
            "46/46 [==============================] - 0s 5ms/step - loss: 224.8678 - mean_absolute_error: 224.8678 - val_loss: 354.8457 - val_mean_absolute_error: 354.8457\n",
            "Epoch 37/45\n",
            "38/46 [=======================>......] - ETA: 0s - loss: 219.1095 - mean_absolute_error: 219.1095\n",
            "Epoch 37: val_loss did not improve from 251.49878\n",
            "46/46 [==============================] - 0s 5ms/step - loss: 219.9711 - mean_absolute_error: 219.9711 - val_loss: 294.3356 - val_mean_absolute_error: 294.3356\n",
            "Epoch 38/45\n",
            "35/46 [=====================>........] - ETA: 0s - loss: 220.6374 - mean_absolute_error: 220.6374\n",
            "Epoch 38: val_loss did not improve from 251.49878\n",
            "46/46 [==============================] - 0s 5ms/step - loss: 219.5465 - mean_absolute_error: 219.5465 - val_loss: 255.5153 - val_mean_absolute_error: 255.5153\n",
            "Epoch 39/45\n",
            "36/46 [======================>.......] - ETA: 0s - loss: 233.1678 - mean_absolute_error: 233.1678\n",
            "Epoch 39: val_loss improved from 251.49878 to 245.66966, saving model to Weights-039--245.66966.hdf5\n",
            "46/46 [==============================] - 0s 6ms/step - loss: 226.7354 - mean_absolute_error: 226.7354 - val_loss: 245.6697 - val_mean_absolute_error: 245.6697\n",
            "Epoch 40/45\n",
            "46/46 [==============================] - ETA: 0s - loss: 207.9033 - mean_absolute_error: 207.9033\n",
            "Epoch 40: val_loss did not improve from 245.66966\n",
            "46/46 [==============================] - 0s 6ms/step - loss: 207.9033 - mean_absolute_error: 207.9033 - val_loss: 322.1091 - val_mean_absolute_error: 322.1091\n",
            "Epoch 41/45\n",
            "39/46 [========================>.....] - ETA: 0s - loss: 204.7695 - mean_absolute_error: 204.7695\n",
            "Epoch 41: val_loss did not improve from 245.66966\n",
            "46/46 [==============================] - 0s 5ms/step - loss: 214.1141 - mean_absolute_error: 214.1141 - val_loss: 295.2776 - val_mean_absolute_error: 295.2776\n",
            "Epoch 42/45\n",
            "37/46 [=======================>......] - ETA: 0s - loss: 210.2992 - mean_absolute_error: 210.2992\n",
            "Epoch 42: val_loss did not improve from 245.66966\n",
            "46/46 [==============================] - 0s 5ms/step - loss: 223.2520 - mean_absolute_error: 223.2520 - val_loss: 265.4370 - val_mean_absolute_error: 265.4370\n",
            "Epoch 43/45\n",
            "37/46 [=======================>......] - ETA: 0s - loss: 220.2588 - mean_absolute_error: 220.2588\n",
            "Epoch 43: val_loss improved from 245.66966 to 221.30289, saving model to Weights-043--221.30289.hdf5\n",
            "46/46 [==============================] - 0s 6ms/step - loss: 218.5388 - mean_absolute_error: 218.5388 - val_loss: 221.3029 - val_mean_absolute_error: 221.3029\n",
            "Epoch 44/45\n",
            "45/46 [============================>.] - ETA: 0s - loss: 216.8640 - mean_absolute_error: 216.8640\n",
            "Epoch 44: val_loss did not improve from 221.30289\n",
            "46/46 [==============================] - 0s 6ms/step - loss: 216.2092 - mean_absolute_error: 216.2092 - val_loss: 231.4879 - val_mean_absolute_error: 231.4879\n",
            "Epoch 45/45\n",
            "46/46 [==============================] - ETA: 0s - loss: 205.7735 - mean_absolute_error: 205.7735\n",
            "Epoch 45: val_loss did not improve from 221.30289\n",
            "46/46 [==============================] - 0s 6ms/step - loss: 205.7735 - mean_absolute_error: 205.7735 - val_loss: 324.1484 - val_mean_absolute_error: 324.1484\n"
          ]
        },
        {
          "output_type": "execute_result",
          "data": {
            "text/plain": [
              "<keras.callbacks.History at 0x7f633135d4d0>"
            ]
          },
          "metadata": {},
          "execution_count": 38
        }
      ]
    },
    {
      "cell_type": "code",
      "source": [
        "# Load wights file of the best model :\n",
        "files = os.listdir('/content')\n",
        "files.sort()\n",
        "wights_file = files[1:-2].pop() # choose the best checkpoint \n",
        "NN_model.load_weights(wights_file) # load it\n",
        "NN_model.compile(loss='mean_absolute_error', optimizer='adam', metrics=['mean_absolute_error'])"
      ],
      "metadata": {
        "id": "_2aDdddigJuO"
      },
      "execution_count": null,
      "outputs": []
    },
    {
      "cell_type": "code",
      "source": [
        "y_predicted_nn = NN_model.predict(training)\n",
        "r2_training_nn = r2_score(training_target, y_predicted_nn)\n",
        "r2_training_nn"
      ],
      "metadata": {
        "colab": {
          "base_uri": "https://localhost:8080/"
        },
        "id": "_xetPAfjgmJ8",
        "outputId": "92308112-91d4-437a-81fb-7a7922b9fea0"
      },
      "execution_count": null,
      "outputs": [
        {
          "output_type": "execute_result",
          "data": {
            "text/plain": [
              "0.6364104685468555"
            ]
          },
          "metadata": {},
          "execution_count": 40
        }
      ]
    },
    {
      "cell_type": "code",
      "source": [
        "y_validation_nn = NN_model.predict(validation)\n",
        "r2_validation_nn = r2_score(validation_target, y_validation_nn)\n",
        "r2_validation_nn"
      ],
      "metadata": {
        "colab": {
          "base_uri": "https://localhost:8080/"
        },
        "id": "huo1m_pchKx9",
        "outputId": "aa06c456-9145-4391-82e8-bd61960fdcf7"
      },
      "execution_count": null,
      "outputs": [
        {
          "output_type": "execute_result",
          "data": {
            "text/plain": [
              "0.4549796544269272"
            ]
          },
          "metadata": {},
          "execution_count": 41
        }
      ]
    },
    {
      "cell_type": "code",
      "source": [
        "r2_training_nn-r2_validation_nn"
      ],
      "metadata": {
        "colab": {
          "base_uri": "https://localhost:8080/"
        },
        "id": "Ifr1cswyhTjc",
        "outputId": "506e5ebb-0451-4f1a-e218-80dbb64f9614"
      },
      "execution_count": null,
      "outputs": [
        {
          "output_type": "execute_result",
          "data": {
            "text/plain": [
              "0.18143081411992823"
            ]
          },
          "metadata": {},
          "execution_count": 42
        }
      ]
    },
    {
      "cell_type": "markdown",
      "source": [
        "## Modelo de predicción de número de vehículos registrados utilizando Máquinas de Soporte Vectorial enfocadas en regresión (SVR)"
      ],
      "metadata": {
        "id": "uDN28MItvJwS"
      }
    },
    {
      "cell_type": "markdown",
      "source": [
        "A continuación se trabaja con el modelo de máquinas de soporte vectorial enfocado en regresión. Se entrena y se predicen los valores de entrenamiento y validación."
      ],
      "metadata": {
        "id": "932Ftonv4oOS"
      }
    },
    {
      "cell_type": "code",
      "source": [
        "SVR_model = make_pipeline(StandardScaler(), SVR(C=1.5, epsilon=0.8))\n",
        "SVR_model.fit(training, training_target)\n",
        "\n",
        "y_predicted_svr = SVR_model.predict(training)\n",
        "r2_training_svr = r2_score(training_target, y_predicted_svr)\n",
        "r2_training_svr"
      ],
      "metadata": {
        "id": "8Aan58DvvNU8",
        "colab": {
          "base_uri": "https://localhost:8080/"
        },
        "outputId": "4ade0223-d3ba-4a08-e13f-7ea331483a0d"
      },
      "execution_count": null,
      "outputs": [
        {
          "output_type": "execute_result",
          "data": {
            "text/plain": [
              "0.3400528977751005"
            ]
          },
          "metadata": {},
          "execution_count": 43
        }
      ]
    },
    {
      "cell_type": "code",
      "source": [
        "y_validation_svr = SVR_model.predict(validation)\n",
        "r2_validation_svr = r2_score(validation_target, y_validation_svr)\n",
        "r2_validation_svr"
      ],
      "metadata": {
        "id": "e7sc0vXnvQMi",
        "colab": {
          "base_uri": "https://localhost:8080/"
        },
        "outputId": "7757dd4e-9f4e-4e00-9d29-3306aeb5c9c5"
      },
      "execution_count": null,
      "outputs": [
        {
          "output_type": "execute_result",
          "data": {
            "text/plain": [
              "0.16359994938390188"
            ]
          },
          "metadata": {},
          "execution_count": 44
        }
      ]
    },
    {
      "cell_type": "code",
      "source": [
        "r2_training_svr - r2_validation_svr"
      ],
      "metadata": {
        "id": "1RFvXmb-vSD0",
        "colab": {
          "base_uri": "https://localhost:8080/"
        },
        "outputId": "b5f404ad-9cd4-4ffe-e75f-968c380e3495"
      },
      "execution_count": null,
      "outputs": [
        {
          "output_type": "execute_result",
          "data": {
            "text/plain": [
              "0.17645294839119863"
            ]
          },
          "metadata": {},
          "execution_count": 45
        }
      ]
    },
    {
      "cell_type": "markdown",
      "source": [
        "## Análisis Descriptivo"
      ],
      "metadata": {
        "id": "hEd4mycDRvCN"
      }
    },
    {
      "cell_type": "code",
      "source": [
        "#Se agrupan por años y se saca la suma de las unidades emitidas.\n",
        "df.groupby('Anio').Unidades.sum().plot(kind='bar')"
      ],
      "metadata": {
        "colab": {
          "base_uri": "https://localhost:8080/",
          "height": 313
        },
        "id": "CDcNflgAXBZE",
        "outputId": "2e28875b-2b08-40c7-e623-b97ef5a082de"
      },
      "execution_count": null,
      "outputs": [
        {
          "output_type": "execute_result",
          "data": {
            "text/plain": [
              "<matplotlib.axes._subplots.AxesSubplot at 0x7f603f7e0210>"
            ]
          },
          "metadata": {},
          "execution_count": 74
        },
        {
          "output_type": "display_data",
          "data": {
            "text/plain": [
              "<Figure size 432x288 with 1 Axes>"
            ],
            "image/png": "[encoded data removed]"
          },
          "metadata": {
            "needs_background": "light"
          }
        }
      ]
    },
    {
      "cell_type": "code",
      "source": [
        "#Se agrupan por dia de la semana y se saca la suma de las unidades emitidas.\n",
        "df.groupby('Dia_Semana').Unidades.sum().plot(kind='bar')"
      ],
      "metadata": {
        "colab": {
          "base_uri": "https://localhost:8080/",
          "height": 295
        },
        "id": "WPmrB0VUXg2x",
        "outputId": "8265cc22-c690-406f-fe0f-79fd1aab821e"
      },
      "execution_count": null,
      "outputs": [
        {
          "output_type": "execute_result",
          "data": {
            "text/plain": [
              "<matplotlib.axes._subplots.AxesSubplot at 0x7f60402cb850>"
            ]
          },
          "metadata": {},
          "execution_count": 75
        },
        {
          "output_type": "display_data",
          "data": {
            "text/plain": [
              "<Figure size 432x288 with 1 Axes>"
            ],
            "image/png": "[encoded data removed]"
          },
          "metadata": {
            "needs_background": "light"
          }
        }
      ]
    },
    {
      "cell_type": "code",
      "source": [
        "#Se agrupan por mes y se saca la suma de las unidades emitidas.\n",
        "df.groupby('Mes').Unidades.sum().plot(kind='bar')"
      ],
      "metadata": {
        "colab": {
          "base_uri": "https://localhost:8080/",
          "height": 300
        },
        "id": "n8QZCz2tXman",
        "outputId": "cf28a96a-8e70-47ef-bcdf-a0bc4a6affb0"
      },
      "execution_count": null,
      "outputs": [
        {
          "output_type": "execute_result",
          "data": {
            "text/plain": [
              "<matplotlib.axes._subplots.AxesSubplot at 0x7f6037bd9190>"
            ]
          },
          "metadata": {},
          "execution_count": 195
        },
        {
          "output_type": "display_data",
          "data": {
            "text/plain": [
              "<Figure size 432x288 with 1 Axes>"
            ],
            "image/png": "[encoded data removed]"
          },
          "metadata": {
            "needs_background": "light"
          }
        }
      ]
    },
    {
      "cell_type": "code",
      "source": [
        "#Se agrupa por si el dia es fin de mes o no, se segmenta por año y se suman \n",
        "#unidades totales emitidas.\n",
        "\n",
        "df_pivot = pd.pivot_table(df, values='Unidades', index='Fin_Mes', columns='Anio',\n",
        "                          aggfunc='mean')\n",
        "df_pivot.plot(kind='bar')"
      ],
      "metadata": {
        "colab": {
          "base_uri": "https://localhost:8080/",
          "height": 295
        },
        "id": "qsbXlxSzdGfi",
        "outputId": "035c6521-155a-494c-bf1e-9d84844f9873"
      },
      "execution_count": null,
      "outputs": [
        {
          "output_type": "execute_result",
          "data": {
            "text/plain": [
              "<matplotlib.axes._subplots.AxesSubplot at 0x7f603a6f4510>"
            ]
          },
          "metadata": {},
          "execution_count": 95
        },
        {
          "output_type": "display_data",
          "data": {
            "text/plain": [
              "<Figure size 432x288 with 1 Axes>"
            ],
            "image/png": "[encoded data removed]"
          },
          "metadata": {
            "needs_background": "light"
          }
        }
      ]
    },
    {
      "cell_type": "code",
      "source": [
        "#Se agrupa por si el dia es inicio de mes o no, se segmenta por año y se suman \n",
        "#unidades totales emitidas.\n",
        "\n",
        "df_pivot = pd.pivot_table(df, values='Unidades', index='Inicio_Mes', columns='Anio',\n",
        "                          aggfunc='mean')\n",
        "df_pivot.plot(kind='bar')"
      ],
      "metadata": {
        "colab": {
          "base_uri": "https://localhost:8080/",
          "height": 295
        },
        "id": "WP4LDNatdcSf",
        "outputId": "daddf5ba-01f6-42ca-da12-b59e547a7a4c"
      },
      "execution_count": null,
      "outputs": [
        {
          "output_type": "execute_result",
          "data": {
            "text/plain": [
              "<matplotlib.axes._subplots.AxesSubplot at 0x7f603a51f4d0>"
            ]
          },
          "metadata": {},
          "execution_count": 96
        },
        {
          "output_type": "display_data",
          "data": {
            "text/plain": [
              "<Figure size 432x288 with 1 Axes>"
            ],
            "image/png": "[encoded data removed]"
          },
          "metadata": {
            "needs_background": "light"
          }
        }
      ]
    },
    {
      "cell_type": "code",
      "source": [
        "#Se agrupa por si el dia es fin de semana o no, se segmenta por año y se suman \n",
        "#unidades totales emitidas.\n",
        "\n",
        "df_pivot = pd.pivot_table(df, values='Unidades', index='Fin_Semana', columns='Anio',\n",
        "                          aggfunc='mean')\n",
        "df_pivot.plot(kind='bar')"
      ],
      "metadata": {
        "colab": {
          "base_uri": "https://localhost:8080/",
          "height": 295
        },
        "id": "zBKDKRLFdmSE",
        "outputId": "3d2f5a13-61d4-4fa5-f655-be80f2e4b35e"
      },
      "execution_count": null,
      "outputs": [
        {
          "output_type": "execute_result",
          "data": {
            "text/plain": [
              "<matplotlib.axes._subplots.AxesSubplot at 0x7f603a53cb50>"
            ]
          },
          "metadata": {},
          "execution_count": 97
        },
        {
          "output_type": "display_data",
          "data": {
            "text/plain": [
              "<Figure size 432x288 with 1 Axes>"
            ],
            "image/png": "[encoded data removed]"
          },
          "metadata": {
            "needs_background": "light"
          }
        }
      ]
    },
    {
      "cell_type": "code",
      "source": [
        "#Se agrupa por si el dia es festivo o no, se segmenta por año y se suman \n",
        "#unidades totales emitidas.\n",
        "\n",
        "df_pivot = pd.pivot_table(df, values='Unidades', index='Festivo', columns='Anio',\n",
        "                          aggfunc='mean')\n",
        "df_pivot.plot(kind='bar')"
      ],
      "metadata": {
        "colab": {
          "base_uri": "https://localhost:8080/",
          "height": 294
        },
        "id": "vw2V8vQAd0Y4",
        "outputId": "2d60a8da-5438-4357-9589-9d13b335f9c0"
      },
      "execution_count": null,
      "outputs": [
        {
          "output_type": "execute_result",
          "data": {
            "text/plain": [
              "<matplotlib.axes._subplots.AxesSubplot at 0x7f603a3ba410>"
            ]
          },
          "metadata": {},
          "execution_count": 98
        },
        {
          "output_type": "display_data",
          "data": {
            "text/plain": [
              "<Figure size 432x288 with 1 Axes>"
            ],
            "image/png": "[encoded data removed]"
          },
          "metadata": {
            "needs_background": "light"
          }
        }
      ]
    },
    {
      "cell_type": "code",
      "source": [
        "#Se agrupan por semana del año y se saca la suma de las unidades emitidas, \n",
        "#al final tomamos solamente las 5 en donde mas hay emisiones .\n",
        "\n",
        "df.groupby('Semana_Anio').Unidades.sum().sort_values(ascending=False)[0:5].plot(kind='bar')"
      ],
      "metadata": {
        "colab": {
          "base_uri": "https://localhost:8080/",
          "height": 301
        },
        "id": "8xQ2MCL5j3Wq",
        "outputId": "e1e83489-4d59-4210-9a79-3e63e39993f2"
      },
      "execution_count": null,
      "outputs": [
        {
          "output_type": "execute_result",
          "data": {
            "text/plain": [
              "<matplotlib.axes._subplots.AxesSubplot at 0x7f60374a6d90>"
            ]
          },
          "metadata": {},
          "execution_count": 233
        },
        {
          "output_type": "display_data",
          "data": {
            "text/plain": [
              "<Figure size 432x288 with 1 Axes>"
            ],
            "image/png": "[encoded data removed]"
          },
          "metadata": {
            "needs_background": "light"
          }
        }
      ]
    },
    {
      "cell_type": "markdown",
      "source": [
        "## Conclusión"
      ],
      "metadata": {
        "id": "Dknf6c9kemz1"
      }
    },
    {
      "cell_type": "markdown",
      "source": [
        "Al entrenar y probar los modelos escogidos, se descubrió que el modelo Bosque Aleatorio es el mejor modelo ya que predice valores positivos a comparación de los modelos de Regresión Lineal y Lasso; y tiene una menor variación en los R^2 entre entrenamiento y validación al ser comparado con la Red Neuronal y la Máquina de Soporte Vectorial, por lo que el mejor candidato es el modelo de Bosques Aleatorios y este será utilizado para hacer las debidas predicciones."
      ],
      "metadata": {
        "id": "pweVfr0seto3"
      }
    },
    {
      "cell_type": "code",
      "source": [
        "df1 = df.drop(['Fecha', 'Unidades'], axis=1,  errors='ignore')\n",
        "prediction_1 = RF_model.predict(df1)\n",
        "df1['Prediccion'] = prediction_1\n",
        "df1.to_csv(r'predicciones_2012-2017.txt', index=None, sep=' ', mode='a')"
      ],
      "metadata": {
        "id": "Kh0t2glA5UiC"
      },
      "execution_count": null,
      "outputs": []
    },
    {
      "cell_type": "code",
      "source": [
        "df2 = df_2018.drop(['Fecha', 'Unidades', 'Prediccion_RF'], axis=1,  errors='ignore')\n",
        "prediction_2 = RF_model.predict(df2)\n",
        "df2['Prediccion'] = prediction_2\n",
        "df2.to_csv(r'predicciones_2018.txt', index=None, sep=' ', mode='a')"
      ],
      "metadata": {
        "id": "1gmPAE978fnU"
      },
      "execution_count": null,
      "outputs": []
    }
  ]
}